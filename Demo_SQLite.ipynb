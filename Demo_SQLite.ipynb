{
 "cells": [
  {
   "cell_type": "code",
   "execution_count": 19,
   "metadata": {},
   "outputs": [],
   "source": [
    "import sqlite3\n",
    "import pandas as pd"
   ]
  },
  {
   "cell_type": "code",
   "execution_count": 2,
   "metadata": {},
   "outputs": [],
   "source": [
    "conn = sqlite3.connect('ql_ban_hang.db')"
   ]
  },
  {
   "cell_type": "code",
   "execution_count": 6,
   "metadata": {},
   "outputs": [
    {
     "name": "stdout",
     "output_type": "stream",
     "text": [
      "(1, 'Freeze', 'Sảng khoái với thức uống đá xay phong cách Việt. Freeze là thức uống đá xay mát lạnh được pha chế từ cà phê Việt, trà xanh, sô cô la hay các loại trái cây đặc trưng của Việt Nam')\n",
      "(2, 'Cà phê', 'Sự kết hợp hoàn hảo giữa hạt cà phê Robusta &amp; Arabica thượng hạng được trồng trên những vùng cao nguyên Việt Nam màu mỡ, qua những bí quyết rang xay độc đáo, Highlands Coffee chúng tôi tự hào giới thiệu những dòng sản phẩm Cà phê mang hương vị đậm đà và tinh tế')\n",
      "(3, 'Trà', 'Hương vị tự nhiên, thơm ngon của Trà Việt với phong cách hiện đại tại Highlands Coffee sẽ giúp bạn gợi mở vị giác của bản thân và tận hưởng một cảm giác thật khoan khoái, tươi mới.')\n",
      "(4, 'Bánh mì', 'Bạn đã quá quen thuộc với Bánh mì Việt Nam. Hãy nếm thử một miếng Bánh mì ngon, giòn, nóng hổi tại Highlands Coffee. Một kết hợp hoàn hảo giữa lớp nhân chua, cay, mặn, ngọt quyện với lớp vỏ bánh mì giòn tan, mịn màng tạo ra tầng tầng lớp lớp dư vị cho thực khách.')\n",
      "(5, 'Khác', 'Sẽ càng ngon miệng hơn khi bạn kết hợp đồ uống với những chiếc bánh ngọt thơm ngon được làm thủ công hàng ngày ngay tại bếp bánh của Highlands Coffee, và cũng đừng quên sắm cho mình bộ bí kíp pha cà phê tại nhà gồm Phin inox, ly sứ Mosaic và cà phê gói Truyền thống mỗi khi có thời gian rảnh rỗi nhé.')\n"
     ]
    }
   ],
   "source": [
    "cursor = conn.cursor()\n",
    "sql = 'SELECT * FROM DanhMuc'\n",
    "cursor.execute(sql)\n",
    "for row in cursor:\n",
    "    print(row)\n",
    "cursor.close()"
   ]
  },
  {
   "cell_type": "code",
   "execution_count": 7,
   "metadata": {},
   "outputs": [
    {
     "name": "stdout",
     "output_type": "stream",
     "text": [
      "(1, 'Bạc Xỉu Đá', 29000, 'Nếu Phin Sữa Đá dành cho các bạn đam mê vị đậm đà, thì Bạc Xỉu Đá là một sự lựa chọn nhẹ “đô\" cà phê nhưng vẫn thơm ngon, chất lừ không kém!', 'bac-xiu-da.png', 2)\n",
      "(2, 'Phin Sữa Đá', 29000, 'Hương vị cà phê Việt Nam đích thực! Từng hạt cà phê hảo hạng được chọn bằng tay, phối trộn độc đáo giữa hạt Robusta từ cao nguyên Việt Nam, thêm Arabica thơm lừng. Cà phê được pha từ Phin truyền thống, hoà cùng sữa đặc sánh và thêm vào chút đá tạo nên ly Phin Sữa Đá – Đậm Đà Chất Phin.', 'phin-sua-da.png', 2)\n",
      "(3, 'Phin Đen Đá', 29000, 'Dành cho những tín đồ cà phê đích thực! Hương vị cà phê truyền thống được phối trộn độc đáo tại Highlands. Cà phê đậm đà pha hoàn toàn từ Phin, cho thêm 1 thìa đường, một ít đá viên mát lạnh, tạo nên Phin Đen Đá mang vị cà phê đậm đà chất Phin.', 'phin-den-da.png', 2)\n",
      "(4, 'Phin Đen Nóng', 29000, 'Dành cho những tín đồ cà phê đích thực! Hương vị cà phê truyền thống được phối trộn độc đáo tại Highlands. Cà phê đậm đà pha từ Phin, cho thêm 1 thìa đường, mang đến vị cà phê đậm đà chất Phin.', 'phin-den-nong.png', 2)\n",
      "(5, 'Phin Sữa Nóng', 29000, 'Hương vị cà phê Việt Nam đích thực! Từng hạt cà phê hảo hạng được chọn bằng tay, phối trộn độc đáo giữa hạt Robusta từ cao nguyên Việt Nam, thêm Arabica thơm lừng. Kết hợp với nước sôi từng giọt cà phê được chiết xuất từ Phin truyền thống, hoà cùng sữa đặc sánh tạo nên ly Phin Sữa Nóng – Đậm đà chất Phin.', 'phin-sua-nong.png', 2)\n",
      "(6, 'PhinDi Kem Sữa', 39000, 'PhinDi Kem Sữa - Cà phê Phin thế hệ mới với chất Phin êm hơn, kết hợp cùng Kem Sữa béo ngậy mang đến hương vị mới lạ, không thể hấp dẫn hơn!', 'phindi-kem-sua.png', 2)\n",
      "(7, 'PhinDi Choco', 39000, 'PhinDi Choco - Cà phê Phin thế hệ mới với chất Phin êm hơn, kết hợp cùng Choco ngọt tan mang đến hương vị mới lạ, không thể hấp dẫn hơn!', 'phindi-choco.png', 2)\n",
      "(8, 'PhinDi Hạnh Nhân', 39000, 'PhinDi Hạnh Nhân - Cà phê Phin thế hệ mới với chất Phin êm hơn, kết hợp cùng Hạnh nhân thơm bùi mang đến hương vị mới lạ, không thể hấp dẫn hơn!', 'phindi-hanh-nhan.png', 2)\n",
      "(9, 'Mocha Macchiato', 59000, 'Một thức uống yêu thích được kết hợp bởi giữa sốt sô cô la ngọt ngào, sữa tươi và đặc biệt là cà phê espresso đậm đà mang thương hiệu Highlands Coffee. Bạn có thể tùy thích lựa chọn uống nóng hoặc dùng chung với đá.', 'mocha-macchiato.png', 2)\n",
      "(10, 'Espresso', 44000, 'Đích thực là ly cà phê espresso ngon đậm đà! Được chiết xuất một cách hoàn hảo từ loại cà phê rang được phối trộn độc đáo từ những hạt cà phê Robusta và Arabica chất lượng hảo hạng', 'espresso.png', 2)\n",
      "(11, 'Americano', 44000, 'Americano tại Highlands Coffee là sự kết hợp giữa cà phê espresso thêm vào nước đun sôi. Bạn có thể tùy thích lựa chọn uống nóng hoặc dùng chung với đá.', 'americano.png', 2)\n",
      "(12, 'Latte', 54000, 'Ly cà phê sữa ngọt ngào đến khó quên! Với một chút nhẹ nhàng hơn so với Cappuccino, Latte của chúng tôi bắt đầu với cà phê espresso, sau đó thêm sữa tươi và bọt sữa một cách đầy nghệ thuật. Bạn có thể tùy thích lựa chọn uống nóng hoặc dùng chung với đá.', 'latte.png', 2)\n",
      "(13, 'Cappuccino', 54000, 'Ly cà phê sữa đậm đà thời thượng! Một chút đậm đà hơn so với Latte, Cappuccino của chúng tôi bắt đầu với cà phê espresso, sau đó thêm một lượng tương đương giữa sữa tươi và bọt sữa cho thật hấp dẫn. Bạn có thể tùy thích lựa chọn uống nóng hoặc dùng chung với đá.', 'cappuccino.png', 2)\n",
      "(14, 'Caramel Phin Freeze', 49000, 'Thơm ngon khó cưỡng! Được kết hợp từ cà phê truyền thống chỉ có tại Highlands Coffee, cùng với caramel, thạch cà phê và đá xay mát lạnh. Trên cùng là lớp kem tươi thơm béo và caramel ngọt ngào. Món nước phù hợp trong những cuộc gặp gỡ bạn bè, bởi sự ngọt ngào thường mang mọi người xích lại gần nhau. ', 'caramel-phin-freeze.png', 2)\n",
      "(15, 'Classic Phin Freeze', 49000, 'Thơm ngon đậm đà! Được kết hợp từ cà phê pha Phin truyền thống chỉ có tại Highlands Coffee, cùng với thạch cà phê và đá xay mát lạnh. Trên cùng là lớp kem tươi thơm béo và bột ca cao đậm đà. Món nước hoàn hảo để khởi đầu câu chuyện cùng bạn bè.', 'classic-phin-freeze.png', 1)\n",
      "(16, 'Freeze Trà Xanh', 49000, 'Thức uống rất được ưa chuộng! Trà xanh thượng hạng từ cao nguyên Việt Nam, kết hợp cùng đá xay, thạch trà dai dai, thơm ngon và một lớp kem dày phủ lên trên vô cùng hấp dẫn. Freeze Trà Xanh thơm ngon, mát lạnh, chinh phục bất cứ ai!', 'freeze-tra-xanh.png', 1)\n",
      "(17, 'Cookies & Cream', 49000, 'Một thức uống ngon lạ miệng bởi sự kết hợp hoàn hảo giữa cookies sô cô la giòn xốp cùng hỗn hợp sữa tươi cùng sữa đặc đem say với đá viên, và cuối cùng không thể thiếu được chính là lớp kem whip mềm mịn cùng cookies sô cô la say nhuyễn.', 'cookies-cream.png', 1)\n",
      "(18, 'Freeze Sô-cô-la', 49000, 'Thiên đường đá xay sô cô la! Từ những thanh sô cô la Việt Nam chất lượng được đem xay với đá cho đến khi mềm mịn, sau đó thêm vào thạch sô cô la dai giòn, ở trên được phủ một lớp kem whip beo béo và sốt sô cô la ngọt ngào. Tạo thành Freeze Sô-cô-la ngon mê mẩn chinh phục bất kì ai!', 'freeze-socola.png', 1)\n",
      "(19, 'Trà Sen Vàng', 39000, 'Thức uống chinh phục những thực khách khó tính! Sự kết hợp độc đáo giữa trà Ô long, hạt sen thơm bùi và củ năng giòn tan. Thêm vào chút sữa sẽ để vị thêm ngọt ngào.', 'tra-sen-vang.png', 3)\n",
      "(20, 'Trà Thạch Vải', 39000, 'Một sự kết hợp thú vị giữa trà đen, những quả vải thơm ngon và thạch vàng giòn béo, mang đến thức uống tuyệt hảo!', 'tra-thach-vai.png', 3)\n",
      "(21, 'Trà Thạch Đào', 39000, 'Vị trà đậm đà kết hợp cùng những miếng đào thơm ngon mọng nước cùng thạch đào giòn dai. Thêm vào ít sữa để gia tăng vị béo.', 'tra-thach-dao.png', 3)\n",
      "(22, 'Trà Thanh Đào', 39000, 'Một trải nghiệm thú vị khác! Sự hài hòa giữa vị trà cao cấp, vị sả thanh mát và những miếng đào thơm ngon mọng nước sẽ mang đến cho bạn một thức uống tuyệt vời.', 'tra-thanh-dao.png', 3)\n",
      "(23, 'Thịt nướng', 19000, 'Đặc sản của Việt Nam! Bánh mì giòn với nhân thịt nướng, rau thơm và gia vị đậm đà, hòa quyện trong lớp nước sốt tuyệt hảo.', 'thit-nuong.png', 4)\n",
      "(24, 'Xíu mại', 19000, 'Bánh mì Việt Nam giòn thơm, với nhân thịt viên hấp dẫn, phủ thêm một lớp nước sốt cà chua ngọt, cùng với rau tươi và gia vị đậm đà.', 'xiu-mai.png', 4)\n",
      "(25, 'Gà Xé Nước Tương', 19000, 'Bánh mì Việt Nam giòn thơm với nhân gà xé, rau, gia vị hòa quyện cùng nước sốt đặc biệt.', 'ga-xe-nuoc-tuong.png', 4)\n",
      "(26, 'Chả lụa xá xíu', 19000, 'Bánh mì Việt Nam giòn thơm với chả lụa và thịt xá xíu thơm ngon, kết hợp cùng rau và gia vị, hòa quyện cùng nước sốt độc đáo.', 'cha-lua-xa-xiu.png', 4)\n",
      "(27, 'Bánh Mousse Cacao', 29000, 'Bánh Mousse Ca Cao, là sự kết hợp giữa ca-cao Việt Nam đậm đà cùng kem tươi.', 'banh-mousse-cacao.png', 5)\n",
      "(28, 'Bánh Sô-cô-la Highlands', 29000, 'Một chiếc bánh độc đáo! Sô cô la ngọt ngào và kem tươi béo ngậy, được phủ thêm một lớp sô cô la mỏng bên trên cho thêm phần hấp dẫn.', 'banh-socola-highlands.png', 5)\n",
      "(29, 'Bánh Caramel Phô Mai', 29000, 'Ngon khó cưỡng! Bánh phô mai thơm béo được phủ bằng lớp caramel ngọt ngào', 'banh-caramel-pho-mai.jpg', 5)\n",
      "(30, 'Bánh Mousse Đào', 29000, 'Một sự kết hợp khéo léo giữa kem và lớp bánh mềm, được phủ lên trên vài lát đào ngon tuyệt.', 'banh-mousse-dao.png', 5)\n",
      "(31, 'Bánh Phô Mai Chanh Dây', 29000, 'Vị béo của phô mai cùng với vị chua của chanh dây, tạo nên chiếc bánh thơm ngon hấp dẫn!', 'banh-pho-mai-chanh-day.jpg', 5)\n",
      "(32, 'Bánh Phô Mai Trà Xanh', 29000, 'Một sự sáng tạo mới mẻ, kết hợp giữa trà xanh đậm đà và phô mai ít béo.', 'banh-pho-mai-tra-xanh.jpg', 5)\n",
      "(33, 'Bánh Tiramisu', 19000, 'Tiramisu thơm béo, làm từ ca-cao Việt Nam đậm đà, kết hợp với phô mai ít béo, vani và chút rum nhẹ nhàng.', 'banh-tiramisu.jpg', 5)\n",
      "(34, 'Bánh chuối', 19000, 'Bánh chuối truyền thống, sự kết hợp của 100% chuối tươi và nước cốt dừa Việt Nam.', 'banh-chuoi.jpg', 5)\n",
      "(35, 'Bánh Phô Mai Cà Phê', 29000, 'Làm từ cà phê truyền thống của Highlands, kết hợp với phô mai thơm ngon! Chiếc bánh phù hợp đi cùng với bất cứ món cà phê nào!', 'banh-pho-mai-ca-phe.jpg', 5)\n",
      "(36, 'Phin Inox', 79000, 'Biểu tượng của Văn hóa cà phê Việt Nam! Dành cho những tín đồ cà phê thực thụ.', 'phin-inox.png', 5)\n",
      "(37, 'Ly sứ Mosaic', 149000, 'Việt Nam tươi đẹp qua góc nhìn của Highlands Coffee, được chế tác trên những mẫu ly sứ theo nghệ thuật ghép mảnh (khảm) cầu kỳ và phức tạp.', 'ly-su-mosaic.png', 5)\n",
      "(38, 'Truyền thống 200gr', 47000, 'Cà phê truyền thống độc quyền của Highlands! Những hạt cà phê Robusta và Arabica thượng hạng trồng ở vùng cao nguyên của Việt Nam được rang và phối trộn theo công thức độc đáo tại Highlands.', 'truyen-thong-200gr.png', 5)\n",
      "(39, 'Truyền Thống 1KG', 235000, 'Cà phê truyền thống độc quyền của Highlands! Những hạt cà phê Robusta và Arabica thượng hạng trồng ở vùng cao nguyên của Việt Nam được rang và phối trộn theo công thức độc đáo tại Highlands.', 'truyen-thong-1kg.png', 5)\n"
     ]
    }
   ],
   "source": [
    "cursor = conn.cursor()\n",
    "sql = 'SELECT * FROM SanPham'\n",
    "cursor.execute(sql)\n",
    "for row in cursor:\n",
    "    print(row)\n",
    "cursor.close()"
   ]
  },
  {
   "cell_type": "code",
   "execution_count": 10,
   "metadata": {},
   "outputs": [
    {
     "name": "stdout",
     "output_type": "stream",
     "text": [
      "(3, 'Trà', 'Hương vị tự nhiên, thơm ngon của Trà Việt với phong cách hiện đại tại Highlands Coffee sẽ giúp bạn gợi mở vị giác của bản thân và tận hưởng một cảm giác thật khoan khoái, tươi mới.')\n"
     ]
    }
   ],
   "source": [
    "cursor = conn.cursor()\n",
    "sql = 'SELECT * FROM DanhMuc \\\n",
    "        WHERE Ten LIKE \"%trà%\"'\n",
    "cursor.execute(sql)\n",
    "for row in cursor:\n",
    "    print(row)\n",
    "cursor.close()"
   ]
  },
  {
   "cell_type": "code",
   "execution_count": 11,
   "metadata": {},
   "outputs": [
    {
     "name": "stdout",
     "output_type": "stream",
     "text": [
      "(3, 'Trà', 'Hương vị tự nhiên, thơm ngon của Trà Việt với phong cách hiện đại tại Highlands Coffee sẽ giúp bạn gợi mở vị giác của bản thân và tận hưởng một cảm giác thật khoan khoái, tươi mới.')\n"
     ]
    }
   ],
   "source": [
    "cursor = conn.cursor()\n",
    "data = ('%trà%',)\n",
    "sql = 'SELECT * FROM DanhMuc \\\n",
    "        WHERE Ten LIKE ?'\n",
    "cursor.execute(sql, data)\n",
    "for row in cursor:\n",
    "    print(row)\n",
    "cursor.close()"
   ]
  },
  {
   "cell_type": "code",
   "execution_count": 16,
   "metadata": {},
   "outputs": [],
   "source": [
    "#Insert DanhMuc\n",
    "cursor = conn.cursor()\n",
    "data = [\n",
    "    {'Ma_So':16, 'Ten': 'Danh muc 6', 'Mo_Ta': ''},\n",
    "    {'Ma_So':17, 'Ten': 'Danh muc 7', 'Mo_Ta': ''},\n",
    "    {'Ma_So':18, 'Ten': 'Danh muc 8', 'Mo_Ta': ''},\n",
    "    {'Ma_So':19, 'Ten': 'Danh muc 9', 'Mo_Ta': ''},\n",
    "    {'Ma_So':110, 'Ten': 'Danh muc 10', 'Mo_Ta': ''},\n",
    "    {'Ma_So':111, 'Ten': 'Danh muc 11', 'Mo_Ta': ''},\n",
    "    {'Ma_So':112, 'Ten': 'Danh muc 12', 'Mo_Ta': ''},\n",
    "]\n",
    "sql = 'INSERT INTO DanhMuc VALUES (:Ma_So, :Ten, :Mo_Ta)'\n",
    "cursor.executemany(sql, data)\n",
    "conn.commit()"
   ]
  }
 ],
 "metadata": {
  "kernelspec": {
   "display_name": "Python 3",
   "language": "python",
   "name": "python3"
  },
  "language_info": {
   "codemirror_mode": {
    "name": "ipython",
    "version": 3
   },
   "file_extension": ".py",
   "mimetype": "text/x-python",
   "name": "python",
   "nbconvert_exporter": "python",
   "pygments_lexer": "ipython3",
   "version": "3.10.11"
  },
  "orig_nbformat": 4
 },
 "nbformat": 4,
 "nbformat_minor": 2
}
