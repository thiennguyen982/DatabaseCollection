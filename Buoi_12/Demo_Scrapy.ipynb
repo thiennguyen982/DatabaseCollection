{
 "cells": [
  {
   "cell_type": "code",
   "execution_count": 1,
   "metadata": {},
   "outputs": [],
   "source": [
    "import scrapy\n",
    "from scrapy.crawler import CrawlerProcess"
   ]
  },
  {
   "cell_type": "code",
   "execution_count": 2,
   "metadata": {},
   "outputs": [],
   "source": [
    "class DataCleaning(object):\n",
    "    def process_item(self, item, spider):\n",
    "        ngay = self.string_standardize(dict(item)[\"ngay\"])\n",
    "        loai = self.string_standardize(dict(item)[\"loai\"])\n",
    "        giamua = self.string_standardize(dict(item)[\"gia_mua\"])\n",
    "        giaban = self.string_standardize(dict(item)[\"gia_ban\"])\n",
    "        giamua = giamua.replace(',','')\n",
    "        giaban = giaban.replace(',','')\n",
    "        return {'ngay': ngay, 'loai_vang': loai, 'gia_mua_vao': giamua, 'gia_ban_ra': giaban}\n",
    "   \n",
    "    def string_standardize(self, text):\n",
    "        text = text.strip(\"\\n\")\n",
    "        text = text.strip()\n",
    "        return text"
   ]
  },
  {
   "cell_type": "code",
   "execution_count": 3,
   "metadata": {},
   "outputs": [],
   "source": [
    "# Định nghĩa lớp kế thừa từ Spider\n",
    "class GiaVangSpider(scrapy.Spider):\n",
    "    ngay = '2023-09-15'\n",
    "\n",
    "    name = \"vang24h_spider\"\n",
    "    start_urls = [f'https://www.24h.com.vn/gia-vang-hom-nay-c425.html?d={ngay}']\n",
    "\n",
    "    custom_settings = {\n",
    "        'ITEM_PIPELINES': {\n",
    "            '__main__.DataCleaning': 1\n",
    "        },\n",
    "        'FEED_FORMAT': 'csv',\n",
    "        'FEED_URI': f'gia-vang-{ngay}.csv',\n",
    "        'LOG_ENABLED': False,\n",
    "    }\n",
    "\n",
    "    def parse(self, response):\n",
    "        ngay = response.css('span.inputDate::text').get()\n",
    "        bang_gia = response.css('table.gia-vang-search-data-table')\n",
    "        for tr in bang_gia.css('tbody > tr'):\n",
    "            loai = tr.css('h2::text').get(default='')\n",
    "            ds_gia = tr.css('span.fixW::text').getall()\n",
    "            gia_mua = ds_gia[0]\n",
    "            gia_ban = ds_gia[1]\n",
    "            yield {'ngay': ngay, 'loai': loai, 'gia_mua': gia_mua, 'gia_ban': gia_ban}"
   ]
  },
  {
   "cell_type": "code",
   "execution_count": 4,
   "metadata": {},
   "outputs": [
    {
     "name": "stderr",
     "output_type": "stream",
     "text": [
      "2023-09-15 20:53:26 [scrapy.utils.log] INFO: Scrapy 2.10.1 started (bot: scrapybot)\n",
      "2023-09-15 20:53:26 [scrapy.utils.log] INFO: Versions: lxml 4.9.1.0, libxml2 2.9.12, cssselect 1.2.0, parsel 1.8.1, w3lib 2.1.2, Twisted 22.10.0, Python 3.8.10 (tags/v3.8.10:3d8993a, May  3 2021, 11:48:03) [MSC v.1928 64 bit (AMD64)], pyOpenSSL 23.2.0 (OpenSSL 3.1.2 1 Aug 2023), cryptography 41.0.3, Platform Windows-10-10.0.19045-SP0\n",
      "2023-09-15 20:53:26 [scrapy.addons] INFO: Enabled addons:\n",
      "[]\n",
      "2023-09-15 20:53:26 [scrapy.crawler] INFO: Overridden settings:\n",
      "{'LOG_ENABLED': False}\n"
     ]
    }
   ],
   "source": [
    "process = CrawlerProcess()\n",
    "process.crawl(GiaVangSpider)\n",
    "process.start()"
   ]
  },
  {
   "cell_type": "code",
   "execution_count": null,
   "metadata": {},
   "outputs": [],
   "source": []
  }
 ],
 "metadata": {
  "kernelspec": {
   "display_name": "Python 3",
   "language": "python",
   "name": "python3"
  },
  "language_info": {
   "codemirror_mode": {
    "name": "ipython",
    "version": 3
   },
   "file_extension": ".py",
   "mimetype": "text/x-python",
   "name": "python",
   "nbconvert_exporter": "python",
   "pygments_lexer": "ipython3",
   "version": "3.8.10"
  },
  "orig_nbformat": 4
 },
 "nbformat": 4,
 "nbformat_minor": 2
}
