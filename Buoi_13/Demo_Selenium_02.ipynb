{
 "cells": [
  {
   "cell_type": "code",
   "execution_count": 1,
   "metadata": {},
   "outputs": [],
   "source": [
    "from selenium import webdriver\n",
    "from selenium.webdriver.common.by import By\n",
    "import pandas as pd\n",
    "import requests\n",
    "import time"
   ]
  },
  {
   "cell_type": "code",
   "execution_count": 2,
   "metadata": {},
   "outputs": [],
   "source": [
    "driver = webdriver.Chrome()\n",
    "driver.maximize_window()\n",
    "url = 'https://www.tnc.com.vn/laptop-dell-chinh-hang.html'\n",
    "driver.get(url)"
   ]
  },
  {
   "cell_type": "markdown",
   "metadata": {},
   "source": [
    "#### Xử lý nút load more"
   ]
  },
  {
   "cell_type": "code",
   "execution_count": 3,
   "metadata": {},
   "outputs": [
    {
     "name": "stdout",
     "output_type": "stream",
     "text": [
      "Done\n"
     ]
    }
   ],
   "source": [
    "while True:\n",
    "    try:\n",
    "        xpath_btn_load_more = '//div[@class=\"load-more\"]/button'\n",
    "        btn_load_more = driver.find_element(by=By.XPATH, value=xpath_btn_load_more)\n",
    "        btn_load_more.click()\n",
    "        time.sleep(3)\n",
    "    except Exception as ex:\n",
    "        print('Done')\n",
    "        break"
   ]
  },
  {
   "cell_type": "markdown",
   "metadata": {},
   "source": [
    "#### Xác định khu vực chứa sản phẩm"
   ]
  },
  {
   "cell_type": "code",
   "execution_count": 4,
   "metadata": {},
   "outputs": [],
   "source": [
    "products_container = driver.find_element(by=By.CLASS_NAME, value='list-product')"
   ]
  },
  {
   "cell_type": "markdown",
   "metadata": {},
   "source": [
    "#### Tên sản phẩm"
   ]
  },
  {
   "cell_type": "code",
   "execution_count": 5,
   "metadata": {},
   "outputs": [
    {
     "name": "stdout",
     "output_type": "stream",
     "text": [
      "257\n"
     ]
    }
   ],
   "source": [
    "try:\n",
    "    xpath_product_name = '//div[@class=\"text\"]/h2/a'\n",
    "    a_product_names = products_container.find_elements(by=By.XPATH, value=xpath_product_name)\n",
    "except Exception as ex:\n",
    "    print('Error:', ex)\n",
    "else:\n",
    "    print(len(a_product_names))"
   ]
  },
  {
   "cell_type": "code",
   "execution_count": 6,
   "metadata": {},
   "outputs": [
    {
     "name": "stdout",
     "output_type": "stream",
     "text": [
      "['Laptop Dell Inspiron 15 3520', 'Laptop Dell Inspiron 15 3505 Y1N1T5 (Đen)', 'Laptop Dell Inspiron 15 3530', 'Laptop Dell Vostro 3530 V5I3001W1 (Xám)', 'Laptop Dell Latitude 3520 71004153 (Đen)', 'Laptop Dell Inspiron 15 3520', 'Laptop Dell Latitude 3520 71012511 (Đen)', 'Laptop Dell Vostro 3420 71003348 (Xám)', 'Laptop Dell Vostro 15 3520 5M2TT2 (Xám)', 'Laptop Dell Latitude 3420 L3420I5SSDFB (Đen)', 'Laptop Dell Inspiron 15 3530', 'Laptop Dell Latitude 3520 70280543 (Đen)', 'Laptop Dell Vostro 3430 71011900 (Đen)', 'Laptop Dell Vostro 15 3530 80GG9 (Xám)', 'Laptop Dell Latitude 3420 L3420I5SSDFB_3Y', 'Laptop Dell Inspiron 15 3520 71003262 (Đen)', 'Laptop Dell Latitude 3420 L3420I5SSDF512B_3Y', 'Laptop Dell Inspiron 15 3530 71011775 (Đen)', 'Laptop Dell Latitude 3520 70280538 (Đen)', 'Laptop Dell Vostro 14 3430 60YGM (Xám)', 'Laptop Dell Latitude 5430 71004111 (Xám)', 'Laptop Dell Latitude 3520 71012298 (Đen)', 'Laptop Dell Vostro 5630 V5630-i5P085W11GRU', 'Laptop Dell Latitude 5530 71004112 (Đen)', 'Laptop Lenovo ThinkPad E14 Gen 5 21JK006HVA', 'Laptop Dell Latitude 5530 71004116 (Đen)', 'Laptop Dell Vostro 5620 70296963 (Xám)', 'Laptop Dell Vostro 5620 VWXVW (Xám)', 'Laptop Dell Vostro 15 3530 80GG91 (Xám)', 'Laptop Dell G15 5525', 'Laptop Dell Inspiron 14 5430 20DY31 (Bạc)', 'Laptop Dell Latitude 5430 L5430I714U (Đen)', 'Laptop Dell Latitude 5430 L5430I714U_512', 'Laptop Dell Latitude 5430 L5430I714U3Y (Đen)', 'Laptop Dell Vostro 16 5630 THT7N (Xám)', 'Laptop Dell Gaming G15 5530', 'Laptop Dell Gaming G15 5530', 'Laptop Dell Alienware M15 R6 P109F001CBL', 'Laptop Dell Vostro 3430 V3430-i7U165W11GRD2', 'Laptop HP Elite Dragonfly G3 6Z980PA (Xanh)', 'Laptop Dell Vostro 3520 V5I3614W1 (Xám)', 'Laptop Dell Vostro 14 3420 FD9GG (Đen)', 'Laptop Dell Vostro 15 3520 5M2TT3 (Xám)', 'Laptop Dell Vostro 15 3520 5M2TT2 (Xám)', 'Laptop Dell Vostro 15 3520 5M2TT1 (Xám)', 'Laptop Dell Inspiron 16 5620 71003903 (Bạc)', 'Laptop Dell Vostro 3420 71003348 (Xám)', 'Laptop Dell G15 5525', 'Laptop Dell Inspiron 16 5620', 'Laptop Dell Inspiron 14 5420', 'Laptop Dell Inspiron 15 3520', 'Laptop Dell Inspiron 15 3520', 'Laptop Dell Inspiron 15 3520 71003264 (Đen)', 'Laptop Dell G15 5520', 'Laptop Dell Vostro 5620 VWXVW (Xám)', 'Laptop Dell Inspiron 14 5420 DGDCG2 (Bạc)', 'Laptop Dell Inspiron 15 3520 71001747 (Đen)', 'Laptop Dell Latitude 3420 L3420I5SSDF512B', 'Laptop Dell Inspiron 15 3520 70296960 (Bạc)', 'Laptop Dell Inspiron 14 5420 70295791 (Bạc)', 'Laptop Dell Inspiron 14 5420 DGDCG1 (Bạc)', 'Laptop Dell Inspiron 5620 P1WKN (Bạc)', 'Laptop Dell Inspiron 5620 N6I7004W1 (Bạc)', 'Laptop Dell Vostro 5320 M32DH1 (Xám)', 'Laptop Dell Vostro 5320 V3I7005W (Xám)', 'Laptop Dell Vostro 5620 70296963 (Xám)', 'Laptop Dell Latitude 5420 L5420I714DF (Đen)', 'Laptop Dell Vostro 3425 V4R35425U100W1 (Đen)', 'Laptop Dell Vostro 5320 V3I7007W (Xám)', 'Laptop Dell Inspiron T7420 2 in 1 N4I5021W', 'Laptop Dell Inspiron 5620 N6I7000W1 (Bạc)', 'Laptop Dell Inspiron 5620 N6I5003W1 (Bạc)', 'Laptop Dell Vostro 14 5415 P143G002AGR (Xám)', 'Laptop Dell Vostro 5620 P117F001AGR (Xám)', 'Laptop Dell Inspiron 14 7420 2 in 1', 'Laptop Dell Vostro 5320 P156G001AGR (Xám)', 'Laptop Dell Inspiron 14 5420 P157G001ASL', 'Laptop Dell Latitude 3420 L3420I5SSDFB (Đen)', 'Laptop Dell Inspiron 16 5625 70281537 (Bạc)', 'Laptop Dell Vostro 5620 70282719 (Xám)', 'Laptop Dell Vostro 3420 70283385 (Đen)', 'Laptop Dell Vostro 3420 70283384 (Đen)', 'Laptop Dell Latitude 7420 42LT742000 (Đen)', 'Laptop Dell Inspiron 16 5625 99VP91 (Bạc)', 'Laptop Dell Alienware M15 R5 70262921 (Đen)', 'Laptop Dell G15 5511 70266676 (Xám)', 'Laptop Dell G15 5515 70266675 (Xám)', 'Laptop Dell Alienware M15 R6 P109F001DBL', 'Laptop Dell Alienware M15 R6 P109F001CBL', 'Laptop Dell XPS 13 9310 6GH9X (Bạc)', 'Laptop Dell Latitude 3420 42LT342002 (Đen)', 'Laptop Dell Latitude 3420 42LT342001 (Đen)', 'Laptop Dell Latitude 3420 L3420I3SSDF (Đen)', 'Laptop Dell Latitude 3420 L3420I5SSDF (Đen)', 'Laptop Dell G15 5515 70266674 (Xám)', 'Laptop Dell Vostro 13 5310 YV5WY3 (Xám)', 'Laptop Dell Inspiron 14 5415 TX4H61 (Bạc)', 'Laptop Dell Inspiron 5515 N5R75700U104W1', 'Laptop Dell Vostro 3405 V4R53500U003W1 (Đen)', 'Laptop Dell Vostro 3400 YX51W6 (Đen)', 'Laptop Dell Vostro 3400 YX51W5 (Đen)', 'Laptop Dell Inspiron 15 3515 G6GR71 (Đen)', 'Laptop Dell Inspiron 15 3515 G6GR72 (Đen)', 'Laptop Dell Vostro 3510 P112F002BBL (Đen)', 'Laptop Dell Latitude 3420 42LT342003', 'Laptop Dell Inspiron 15 3511 70270652 (Bạc)', 'Laptop Dell Vostro 3510 7T2YC3 (Đen)', 'Laptop Dell Inspiron 5410 2in1 J42F82 (Bạc)', 'Laptop Dell Vostro 3510 7T2YC2 (Đen)', 'Laptop Dell Vostro 5410 V4I5214W1 (Xám)', 'Laptop Dell Vostro 3510 V5I3305W (Đen)', 'Laptop Dell Vostro 3400 V4I7015W1 (Đen)', 'Laptop Dell Vostro 3400 70270644 (Đen)', 'Laptop Dell Vostro 5515 70270649 (Xám)', 'Laptop Dell Inspiron 15 3511 70270650 (Bạc)', 'Laptop Dell Vostro 5510 70270646 (Xám)', 'Laptop Dell Vostro 3400 70270645 (Đen)', 'Laptop Dell G15 5511 P105F006BGR (Xám)', 'Laptop Dell Inspiron 5510 0WT8R2 (Bạc)', 'Laptop Dell Inspiron 14 5402 GVCNH2 (Bạc)', 'Laptop Dell Vostro 3405 P132G002ABL (Đen)', 'Laptop Dell G15 5511 P105F006AGR (Xám)', 'Laptop Dell G15 5515 P105F004DGR (Xám)', 'Laptop Dell G15 5515 P105F004CGR (Xám)', 'Laptop Dell Vostro 5515 K4Y9X1 (Xám)', 'Laptop Dell Vostro 3510 V5I3205W (Đen)', 'Laptop Dell Inspiron 5410 P143G001ASL (Bạc)', 'Laptop Dell Vostro 3400 YX51W3 (Đen)', 'Laptop Dell Inspiron 14 5415 70262929 (Bạc)', 'Laptop Dell Latitude 3520 70266801 (Đen)', 'Laptop Dell Vostro 5415 V4R55500U015W (Xám)', 'Laptop Dell Inspiron 5510 0WT8R1 (Bạc)', 'Laptop Dell Inspiron 5410 P147G002ASL (Bạc)', 'Laptop Dell Vostro 3500 P90F006CBL (Đen)', 'Laptop Dell Inspiron 5301 P121G002ASL (Bạc)', 'Laptop Dell Inspiron 7400 DDXGD1 (Bạc)', 'Laptop Dell Vostro 3510 7T2YC1 (Đen)', 'Laptop Dell Inspiron 15 3505 Y1N1T5 (Đen)', 'Laptop Dell Inspiron 15 3505 Y1N1T3 (Đen)', 'Laptop Dell Inspiron 15 3511 P112F001BBL', 'Laptop Dell Inspiron 15 3511 P112F001ABL', 'Laptop Dell Vostro 3400 70253899 (Đen)', 'Laptop Dell Vostro 5510 70253901 (Xám)', 'Laptop Dell Vostro 3400 70253900 (Đen)', 'Laptop Dell Inspiron 3501 70253897 (Đen)', 'Laptop Dell Inspiron 5410 J42F81 (Bạc)', 'Laptop Dell Vostro 3510 P112F002ABL (Đen)', 'Laptop Dell G3 3500 G3500C', 'Laptop Dell Inspiron 15 3505 Y1N1T2 (Đen)', 'Laptop Dell Inspiron 3501 P90F005DBL (Đen)', 'Laptop Dell Vostro 3405 V4R53500U003W (Black)', 'Laptop Dell Inspiron 7400 N4I5134W (Bạc)', 'Laptop Dell Vostro 3400 V4I7015W (Đen)', 'Laptop Dell Latitude 3420 L3420I3SSD', 'Laptop Dell Inspiron 7501 N5I5012W', 'Laptop Dell Inspiron 5410 N4I5147W (Silver)', 'Laptop Dell Inspiron 5505 N5R74700U104W', 'Laptop Dell Inspiron 5310 N3I3116W (Silver)', 'Laptop Dell Inspiron 5301 N3I3016W (Silver)', 'Laptop Dell Vostro 5410 V4I5014W (Gray)', 'Laptop Dell Vostro 13 5310 YV5WY1', 'Laptop Dell G5 15 5505 70252801 (Silver)', 'Laptop Dell G5 15 5500 70252800', 'Laptop Dell G5 15 5500 70252797', 'Laptop Dell G3 3500 70253721 (Đen)', 'Laptop Dell G5 15 5500 G5500B', 'Laptop Dell G3 3500 G3500Cw', 'Laptop Dell G3 3500 G3500Bw (Trắng)', 'Laptop Dell Latitude 7420 70251597', 'Laptop Dell Latitude 7320 70251595', 'Laptop Dell Latitude 7320 70251596', 'Laptop Dell Latitude 5520 70251598 (Titan', 'Laptop Dell Latitude 5520 70251601 (Titan', 'Laptop Dell Latitude 5420 70251602 (Titan', 'Laptop Dell Latitude 3520 70251591', 'Laptop Dell Latitude 3520 70251590', 'Laptop Dell Latitude 3520 70251593', 'Laptop Dell Latitude 3520 70251594', 'Laptop Dell Latitude 3520 70251592', 'Laptop Dell Latitude 3520 70251603', 'Laptop Dell Latitude 3420 L3420I5SSD', 'Laptop Dell Inspiron 5405 VK0MC1', 'Laptop Dell Latitude 3410 L3410I5SSD512', 'Laptop Dell Inspiron 3505 N3505A (Black)', 'Laptop Dell Inspiron 5405 70243207 (Silver)', 'Laptop Dell Inspiron 3501 70243203', 'Laptop Dell Inspiron 5402 70243201', 'Laptop Dell Latitude 3510 70233210 (Dark', 'Laptop Dell Inspiron 3501 N3501B', 'Laptop Dell Inspiron 3501 N3501C', 'Laptop Dell Vostro 3500 V3500B(Đen)', 'Laptop Dell Vostro 3500 V3500A(Đen)', 'Laptop Dell Vostro 3500 7G3982(Đen)', 'Laptop Dell Vostro 3500 7G3981(Đen)', 'Laptop Dell Vostro 3400 YX51W2', 'Laptop Dell Vostro 3400 YX51W1', 'Laptop Dell Vostro 3400 70234073', 'Laptop Dell Inspiron 5402 GVCNH1', 'Laptop Dell Vostro 3400 70235020 (Đen)', 'Laptop Dell Vostro 5502 V5502A', 'Laptop Dell Vostro 5502 NT0X01 (Gray)', 'Laptop Dell Inspiron 5502 1XGR11 (Silver)', 'Laptop Dell Vostro 3500 V5I3001W (Black)', 'Laptop Dell G7 7500 G7500A', 'Laptop Dell G7 7500 G7500B', 'Laptop Dell Inspiron 5406 TYCJN1 (Grey)', 'Laptop Dell Inspiron 5406 N4I5047W(Grey)', 'Laptop Dell Inspiron 7400 N4I5206W (Silver)', 'Laptop Dell Inspiron 5502 N5502A (Silver)', 'Laptop Dell G5 15 5500 70228123 (Black)', 'Laptop Dell Inspiron 5502 N5I5310W (Silver)', 'Laptop Dell Vostro 5301 V3I7129W (XÁM)', 'Laptop Dell Vostro 5502 70231340 (Gray)', 'Laptop Dell Vostro 5402 V4I5003W (Gray)', 'Laptop Dell Inspiron 3501 70234074', 'Laptop Dell Inspiron 5406 70232602 (Grey)', 'Laptop Dell Inspiron 5301 70232601 (Silver)', 'Laptop Dell Inspiron 3501 70234075', 'Laptop Dell Vostro 5301 C4VV92 (XÁM)', 'Laptop Dell Vostro 5301 C4VV91 (XÁM)', 'Laptop Dell Vostro 5402 70231338 (Gray)', 'Laptop Dell Vostro 5402 V5402A (Gray)', 'Laptop Dell Inspiron 15 3505 Y1N1T1 (Black)', 'Laptop Dell Inspiron 7306 N7306A', 'Laptop Dell Latitude 7410 L7410I714NWP', 'Laptop Dell Vostro 3405 V4R53500U001W (Black)', 'Laptop DELL Inspiron 7306 N3I5202W (Black)', 'Laptop Dell Vostro 3491 70225483 (Black)', 'Laptop Dell Vostro 3491 70223127 (Black)', 'Laptop Dell Vostro 3405 70227396 (Black)', 'Laptop Dell G5 15 5500 70225484', 'Laptop Dell G5 15 5500 70225486', 'Laptop Dell G5 15 5500 70225485', 'Laptop Dell G3 3500 70223130', 'Laptop Dell Latitude 3410 L3410I5SSD', 'Laptop Dell G3 3500 G3500B', 'Laptop Dell G3 3500 G3500A', 'Laptop Dell Latitude 7310 70220651', 'Laptop Dell Latitude 5410 42LT540004', 'Laptop Dell Latitude 5410 42LT540005', 'Laptop Dell Latitude 3510 42LT350008', 'Laptop Dell Latitude 3510 42LT350005', 'Laptop Dell Latitude 5510 42LT550003', 'Laptop Dell Latitude 7310 42LT730004', 'Laptop Dell Latitude 7310 42LT730003', 'Laptop Dell Latitude 5410 70216827', 'Laptop Dell Latitude 3510 70216826', 'Laptop Dell Latitude 3410 70216825', 'Laptop Dell Latitude 3410 3410 70216824', 'Laptop Dell Latitude 3410 70216823', 'Laptop Dell Latitude 5500 42LT550W01', 'Laptop Dell Latitude 5500 42LT550002', 'Laptop Dell Latitude 5400 42LT540003', 'Laptop Dell Latitude 3500 42LT350004', 'Laptop Dell Latitude 3400 70200858', 'Laptop Dell Latitude 3400 70200857', 'Laptop Dell Latitude 3400 70188730']\n"
     ]
    }
   ],
   "source": [
    "text_product_names = [a_product.text.replace('.', '').strip() for a_product in a_product_names]\n",
    "print(text_product_names)"
   ]
  },
  {
   "cell_type": "markdown",
   "metadata": {},
   "source": [
    "#### Giá sản phẩm"
   ]
  },
  {
   "cell_type": "code",
   "execution_count": 7,
   "metadata": {},
   "outputs": [
    {
     "name": "stdout",
     "output_type": "stream",
     "text": [
      "257\n"
     ]
    }
   ],
   "source": [
    "try:\n",
    "    div_product_prices = products_container.find_elements(by=By.CLASS_NAME, value='price')\n",
    "except Exception as ex:\n",
    "    print('Error:', ex)\n",
    "else:\n",
    "    print(len(div_product_prices))"
   ]
  },
  {
   "cell_type": "code",
   "execution_count": 8,
   "metadata": {},
   "outputs": [
    {
     "name": "stdout",
     "output_type": "stream",
     "text": [
      "[11790000, 11990000, 13490000, 13990000, 14990000, 15490000, 15990000, 16390000, 16490000, 16490000, 16990000, 16990000, 17590000, 17990000, 17990000, 18990000, 19490000, 19990000, 19990000, 20790000, 20790000, 20990000, 20990000, 20990000, 22990000, 22990000, 22990000, 23790000, 23890000, 25390000, 25990000, 25990000, 26990000, 28490000, 29290000, 37990000, 39590000, 42990000, 0, 0, 0, 0, 0, 16490000, 0, 0, 16390000, 0, 0, 0, 15490000, 11790000, 0, 0, 23790000, 0, 0, 0, 0, 0, 0, 0, 0, 0, 0, 22990000, 0, 0, 0, 0, 0, 0, 0, 0, 0, 0, 0, 16490000, 0, 0, 0, 0, 0, 0, 0, 0, 0, 0, 42990000, 0, 0, 0, 0, 0, 0, 0, 0, 0, 0, 0, 0, 0, 0, 0, 0, 0, 0, 0, 0, 0, 0, 0, 0, 0, 0, 0, 0, 0, 0, 0, 0, 0, 0, 0, 0, 0, 0, 0, 0, 0, 0, 0, 0, 0, 0, 0, 0, 11990000, 0, 0, 0, 0, 0, 0, 0, 0, 0, 0, 0, 0, 0, 0, 0, 0, 0, 0, 0, 0, 0, 0, 0, 0, 0, 0, 0, 0, 0, 0, 0, 0, 0, 0, 0, 0, 0, 0, 0, 0, 0, 0, 0, 0, 0, 0, 0, 0, 0, 0, 0, 0, 0, 0, 0, 0, 0, 0, 0, 0, 0, 0, 0, 0, 0, 0, 0, 0, 0, 0, 0, 0, 0, 0, 0, 0, 0, 0, 0, 0, 0, 0, 0, 0, 0, 0, 0, 0, 0, 0, 0, 0, 0, 0, 0, 0, 0, 0, 0, 0, 0, 0, 0, 0, 0, 0, 0, 0, 0, 0, 0, 0, 0, 0, 0, 0, 0, 0, 0]\n"
     ]
    }
   ],
   "source": [
    "text_product_prices = []\n",
    "for div_product_price in div_product_prices:\n",
    "    p = div_product_price.text.replace(' đ', '').replace('.', '')\n",
    "    if p.isdigit():\n",
    "        text_product_prices.append(int(p))\n",
    "    else:\n",
    "        text_product_prices.append(0)\n",
    "print(text_product_prices)"
   ]
  },
  {
   "cell_type": "markdown",
   "metadata": {},
   "source": [
    "#### Mô tả sản phẩm"
   ]
  },
  {
   "cell_type": "code",
   "execution_count": 9,
   "metadata": {},
   "outputs": [
    {
     "name": "stdout",
     "output_type": "stream",
     "text": [
      "257\n"
     ]
    }
   ],
   "source": [
    "text_product_descriptions = []\n",
    "for a_product_description in a_product_names:\n",
    "    # print(a_product_description)\n",
    "    text_product_descriptions.append(a_product_description.get_attribute('data-original-title'))\n",
    "print(len(text_product_descriptions))"
   ]
  },
  {
   "cell_type": "markdown",
   "metadata": {},
   "source": [
    "#### Quà tặng"
   ]
  },
  {
   "cell_type": "code",
   "execution_count": 10,
   "metadata": {},
   "outputs": [
    {
     "name": "stdout",
     "output_type": "stream",
     "text": [
      "257\n"
     ]
    }
   ],
   "source": [
    "try:\n",
    "    div_product_gifts = products_container.find_elements(by=By.CSS_SELECTOR, value='div.tangngay')\n",
    "except Exception as ex:\n",
    "    print('Error:', ex)\n",
    "else:\n",
    "    print(len(div_product_gifts))"
   ]
  },
  {
   "cell_type": "code",
   "execution_count": 11,
   "metadata": {},
   "outputs": [
    {
     "name": "stdout",
     "output_type": "stream",
     "text": [
      "[True, False, False, False, False, True, False, True, True, True, False, False, False, False, False, False, False, False, False, False, False, False, False, False, False, False, False, True, False, False, False, False, False, False, False, False, False, True, False, False, True, True, True, True, True, False, True, False, True, False, True, True, True, False, True, True, False, True, True, False, False, True, False, False, False, False, True, False, False, False, False, False, False, True, False, False, False, True, False, False, False, False, True, False, False, False, False, True, True, False, True, True, False, False, False, False, False, False, False, False, False, False, False, False, False, False, False, False, False, False, False, False, False, False, False, False, False, False, False, False, False, False, False, False, False, False, False, False, False, False, False, False, False, False, False, False, False, False, False, False, False, False, False, False, False, False, False, False, False, False, False, False, False, False, False, False, False, False, False, False, False, False, False, False, False, False, False, False, False, False, False, False, False, False, False, False, False, False, False, False, False, False, False, False, False, False, False, False, False, False, False, False, False, False, False, False, False, False, False, False, False, False, False, False, False, False, False, False, False, False, False, False, False, False, False, False, False, False, False, False, False, False, False, False, False, False, False, False, False, False, False, False, False, False, False, False, False, False, False, False, False, False, False, False, False, False, False, False, False, False, False, False, False, False, False, False, False]\n"
     ]
    }
   ],
   "source": [
    "bool_product_gifts = [div_product_gift.text != '' for div_product_gift in div_product_gifts]\n",
    "print(bool_product_gifts)"
   ]
  },
  {
   "cell_type": "markdown",
   "metadata": {},
   "source": [
    "#### Hình sản phẩm (Tên hình, Download hình)"
   ]
  },
  {
   "cell_type": "code",
   "execution_count": 12,
   "metadata": {},
   "outputs": [
    {
     "name": "stdout",
     "output_type": "stream",
     "text": [
      "257\n"
     ]
    }
   ],
   "source": [
    "try:\n",
    "    xpath_product_images = '//div[@id=\"list-product\"]//div[@class=\"thumb\"]/a[@class=\"effect\"]/img'\n",
    "    img_product_images = products_container.find_elements(by=By.XPATH, value=xpath_product_images)\n",
    "except Exception as ex:\n",
    "    print('Error:', ex)\n",
    "else:\n",
    "    print(len(img_product_images))"
   ]
  },
  {
   "cell_type": "code",
   "execution_count": 13,
   "metadata": {},
   "outputs": [
    {
     "name": "stdout",
     "output_type": "stream",
     "text": [
      "['https://www.tnc.com.vn/uploads/product/sp2021/thumbs/370x200_laptop-dell-inspiron-15-3520-n3520-i3u082w11blu-%C4%90en.jpg', 'https://www.tnc.com.vn/uploads/product/sp2021/thumbs/370x200_laptop-dell-inspiron-15-3505-y1n1t5-den.jpg', 'https://www.tnc.com.vn/uploads/product/sp2023/thumbs/370x200_laptop-dell-inspiron-15-3530-n3530-i3u085w11blu-carbon-black.jpg', 'https://www.tnc.com.vn/uploads/product/sp2023/thumbs/370x200_laptop-dell-vostro-3530-v5i3001w1-xam.jpg', 'https://www.tnc.com.vn/uploads/product/sp2021/thumbs/370x200_laptop-dell-latitude-3520-71004153-%C4%90en.jpg', 'https://www.tnc.com.vn/uploads/product/sp2021/thumbs/370x200_laptop-dell-inspiron-15-3520-n3520-i5u085w11blu-%C4%90en.jpg', 'https://www.tnc.com.vn/uploads/product/sp2023/thumbs/370x200_laptop-dell-latitude-3520-71012511-%C4%90en.jpg', 'https://www.tnc.com.vn/uploads/product/sp2021/thumbs/370x200_laptop-dell-vostro-3420-71003348-xam.jpg', 'https://www.tnc.com.vn/uploads/product/sp2021/thumbs/370x200_laptop-dell-vostro-15-3520-5m2tt2-xam.jpg', 'https://www.tnc.com.vn/uploads/product/sp2021/thumbs/370x200_laptop-dell-latitude-3420-l3420i5ssdfb-%C4%90en.jpg', 'https://www.tnc.com.vn/uploads/product/sp2023/thumbs/370x200_laptop-dell-inspiron-15-3530-n3530-i5u085w11blu-carbon-black.jpg', 'https://www.tnc.com.vn/uploads/product/sp2021/thumbs/370x200_laptop-dell-latitude-3520-70280543-%C4%90en.jpg', 'https://www.tnc.com.vn/uploads/product/sp2023/thumbs/370x200_laptop-dell-vostro-3430-71011900-%C4%90en.jpg', 'https://www.tnc.com.vn/uploads/product/sp2023/thumbs/370x200_laptop-dell-vostro-15-3530-80gg9-xam.jpg', 'https://www.tnc.com.vn/uploads/product/sp2021/thumbs/370x200_laptop-dell-latitude-3420-l3420i5ssdfb_3y-%C4%90en.jpg', 'https://www.tnc.com.vn/uploads/product/sp2021/thumbs/370x200_laptop-dell-inspiron-15-3520-71003262-den.jpg', 'https://www.tnc.com.vn/uploads/product/sp2021/thumbs/370x200_laptop-dell-latitude-3420-l3420i5ssdf512b_3y-%C4%90en.jpg', 'https://www.tnc.com.vn/uploads/product/sp2023/thumbs/370x200_laptop-dell-inspiron-15-3530-71011775-den.jpg', 'https://www.tnc.com.vn/uploads/product/sp2023/thumbs/370x200_laptop-dell-latitude-3520-70280543-Djen.jpg', 'https://www.tnc.com.vn/uploads/product/sp2023/thumbs/370x200_laptop-dell-vostro-14-3430-60ygm-xam.jpg', 'https://www.tnc.com.vn/uploads/product/sp2021/thumbs/370x200_laptop-dell-latitude-5430-71004111-xam.jpg', 'https://www.tnc.com.vn/uploads/product/sp2023/thumbs/370x200_laptop-dell-latitude-3520-71012298-%C4%90en.jpg', 'https://www.tnc.com.vn/uploads/product/sp2021/thumbs/370x200_laptop-dell-vostro-5630-v5630-i5p085w11gru-xam.jpg', 'https://www.tnc.com.vn/uploads/product/sp2023/thumbs/370x200_laptop-dell-latitude-5530-71004112-%C4%90en.jpg', 'https://www.tnc.com.vn/uploads/product/sp2023/thumbs/370x200_laptop-lenovo-thinkpad-e14-gen-5-21jk006hva-den.jpg', 'https://www.tnc.com.vn/uploads/product/sp2023/thumbs/370x200_laptop-dell-latitude-5530-71004116-den.jpg', 'https://www.tnc.com.vn/uploads/product/sp2021/thumbs/370x200_laptop-dell-vostro-5620-70296963-xam.jpg', 'https://www.tnc.com.vn/uploads/product/sp2021/thumbs/370x200_laptop-dell-vostro-5620-vwxvw-xam.jpg', 'https://www.tnc.com.vn/uploads/product/sp2023/thumbs/370x200_laptop-dell-vostro-15-3530-80gg91-xam.jpg', 'https://www.tnc.com.vn/uploads/product/sp2023/thumbs/370x200_laptop-dell-g15-5525-g15-5525-r7h165w11gr3060-%C4%90en.jpg', 'https://www.tnc.com.vn/uploads/product/sp2023/thumbs/370x200_laptop-dell-inspiron-14-5430-20dy31-bac.jpg', 'https://www.tnc.com.vn/uploads/product/sp2023/thumbs/370x200_laptop-dell-latitude-5430-l5430i714u-%C4%90en.jpg', 'https://www.tnc.com.vn/uploads/product/sp2021/thumbs/370x200_laptop-dell-latitude-5430-l5430i714u_512-%C4%90en.jpg', 'https://www.tnc.com.vn/uploads/product/sp2023/thumbs/370x200_laptop-dell-latitude-5430-l5430i714u3y-%C4%90en.jpg', 'https://www.tnc.com.vn/uploads/product/sp2023/thumbs/370x200_laptop-dell-vostro-16-5630-tht7n-xam.jpg', 'https://www.tnc.com.vn/uploads/product/sp2021/thumbs/370x200_laptop-dell-gaming-g15-5530-g15-5530-i7h165w11gr4050-xam.jpg', 'https://www.tnc.com.vn/uploads/product/sp2021/thumbs/370x200_laptop-dell-gaming-g15-5530-g15-5530-i7h165w11gr4060-xam.jpg', 'https://www.tnc.com.vn/uploads/product/sp2021/thumbs/370x200_laptop-dell-alienware-m15-r6-p109f001cbl-%C4%90en.jpg', 'https://www.tnc.com.vn/uploads/product/sp2023/thumbs/370x200_laptop-dell-vostro-3430-v3430-i7u165w11grd2-xam.jpg', 'https://www.tnc.com.vn/uploads/product/sp2021/thumbs/370x200_laptop-hp-elite-dragonfly-g3-6z980pa-xanh.png', 'https://www.tnc.com.vn/uploads/product/sp2021/thumbs/200x200_laptop-dell-vostro-3520-v5i3614w1-xam.jpg', 'https://www.tnc.com.vn/uploads/product/sp2021/thumbs/200x200_laptop-dell-vostro-14-3420-fd9gg-%C4%90en.jpg', 'https://www.tnc.com.vn/uploads/product/sp2021/thumbs/200x200_laptop-dell-vostro-15-3520-5m2tt3-xam.jpg', 'https://www.tnc.com.vn/uploads/product/sp2021/thumbs/200x200_laptop-dell-vostro-15-3520-5m2tt2-xam.jpg', 'https://www.tnc.com.vn/uploads/product/sp2021/thumbs/200x200_laptop-dell-vostro-15-3520-5m2tt1-xam.jpg', 'https://www.tnc.com.vn/uploads/product/sp2021/thumbs/200x200_laptop-dell-inspiron-16-5620-71003903-bac.jpg', 'https://www.tnc.com.vn/uploads/product/sp2021/thumbs/200x200_laptop-dell-vostro-3420-71003348-xam.jpg', 'https://www.tnc.com.vn/uploads/product/sp2021/thumbs/200x200_laptop-dell-g15-5525-g15-5525-r5h085w11gr3050-%C4%90en.jpg', 'https://www.tnc.com.vn/uploads/product/sp2021/thumbs/200x200_laptop-dell-inspiron-16-5620-n5620-i5p165w11slu-bac.jpg', 'https://www.tnc.com.vn/uploads/product/sp2021/thumbs/200x200_laptop-dell-inspiron-14-5420-n5420-i5u085w11slu-bac.jpg', 'https://www.tnc.com.vn/uploads/product/sp2021/thumbs/200x200_laptop-dell-inspiron-15-3520-n3520-i5u085w11blu-%C4%90en.jpg', 'https://www.tnc.com.vn/uploads/product/sp2021/thumbs/200x200_laptop-dell-inspiron-15-3520-n3520-i3u082w11blu-%C4%90en.jpg', 'https://www.tnc.com.vn/uploads/product/sp2021/thumbs/200x200_laptop-dell-inspiron-15-3520-71003264-%C4%90en.jpg', 'https://www.tnc.com.vn/uploads/product/sp2021/thumbs/200x200_laptop-dell-g15-5520-i7h165w11gr3050ti.png', 'https://www.tnc.com.vn/uploads/product/sp2021/thumbs/200x200_laptop-dell-vostro-5620-vwxvw-xam.jpg', 'https://www.tnc.com.vn/uploads/product/sp2021/thumbs/200x200_laptop-dell-inspiron-14-5420-dgdcg2-bac.jpg', 'https://www.tnc.com.vn/uploads/product/sp2021/thumbs/200x200_laptop-dell-inspiron-15-3520-71001747-%C4%90en.jpg', 'https://www.tnc.com.vn/uploads/product/sp2021/thumbs/200x200_laptop-dell-latitude-3420-l3420i5ssdf512b-%C4%90en.jpg', 'https://www.tnc.com.vn/uploads/product/sp2021/thumbs/200x200_laptop-dell-inspiron-15-3520-70296960-den.jpg', 'https://www.tnc.com.vn/uploads/product/sp2021/thumbs/200x200_laptop-dell-inspiron-14-5420-70295791-bac.jpg', 'https://www.tnc.com.vn/uploads/product/sp2021/thumbs/200x200_laptop-dell-inspiron-14-5420-dgdcg1-bac.jpg', 'https://www.tnc.com.vn/uploads/product/sp2021/thumbs/200x200_laptop-dell-inspiron-5620-p1wkn-bac.jpg', 'https://www.tnc.com.vn/uploads/product/sp2021/thumbs/200x200_laptop-dell-inspiron-5620-n6i7004w1-bac.jpg', 'https://www.tnc.com.vn/uploads/product/sp2021/thumbs/200x200_laptop-dell-vostro-5320-m32dh1-xam.jpg', 'https://www.tnc.com.vn/uploads/product/sp2021/thumbs/200x200_laptop-dell-vostro-5320-v3i7005w-xam.jpg', 'https://www.tnc.com.vn/uploads/product/sp2021/thumbs/200x200_laptop-dell-vostro-5620-70296963-xam.jpg', 'https://www.tnc.com.vn/uploads/product/sp2021/thumbs/200x200_laptop-dell-latitude-5420-l5420i714df-%C4%90en.jpg', 'https://www.tnc.com.vn/uploads/product/sp2021/thumbs/200x200_laptop-dell-vostro-3425-v4r35425u100w1-%C4%90en.jpg', 'https://www.tnc.com.vn/uploads/product/sp2021/thumbs/200x200_laptop-dell-vostro-5320-v3i7007w-xam.jpg', 'https://www.tnc.com.vn/uploads/product/sp2021/thumbs/200x200_laptop-dell-inspiron-t7420-2-in-1-n4i5021w-bac.jpg', 'https://www.tnc.com.vn/uploads/product/sp2021/thumbs/200x200_laptop-dell-inspiron-5620-n6i7000w1-bac.jpg', 'https://www.tnc.com.vn/uploads/product/sp2021/thumbs/200x200_laptop-dell-inspiron-5620-n6i5003w1-bac.jpg', 'https://www.tnc.com.vn/uploads/product/sp2021/thumbs/200x200_laptop-dell-vostro-14-5415-p143g002agr-xam.jpg', 'https://www.tnc.com.vn/uploads/product/sp2021/thumbs/200x200_laptop-dell-vostro-5620-p117f001agr-xam.jpg', 'https://www.tnc.com.vn/uploads/product/sp2021/thumbs/200x200_laptop-dell-inspiron-14-7420-2-in-1-p161g001asl-bac.jpg', 'https://www.tnc.com.vn/uploads/product/sp2021/thumbs/200x200_laptop-dell-vostro-5320-p156g001agr-xam.jpg', 'https://www.tnc.com.vn/uploads/product/sp2021/thumbs/200x200_laptop-dell-inspiron-14-5420-p157g001asl-bac.jpg', 'https://www.tnc.com.vn/uploads/product/sp2021/thumbs/200x200_laptop-dell-latitude-3420-l3420i5ssdfb-%C4%90en.jpg', 'https://www.tnc.com.vn/uploads/product/sp2021/thumbs/200x200_laptop-dell-inspiron-16-5625-70281537-bac.png', 'https://www.tnc.com.vn/uploads/product/sp2021/thumbs/200x200_laptop-dell-vostro-5620-70282719-xam.jpg', 'https://www.tnc.com.vn/uploads/product/sp2021/thumbs/200x200_laptop-dell-vostro-3420-70283385-%C4%90en.jpg', 'https://www.tnc.com.vn/uploads/product/sp2021/thumbs/200x200_laptop-dell-vostro-3420-70283384-%C4%90en.jpg', 'https://www.tnc.com.vn/uploads/product/sp2021/thumbs/200x200_laptop-dell-latitude-7420-42lt742000-%C4%90en.png', 'https://www.tnc.com.vn/uploads/product/sp2021/thumbs/200x200_laptop-dell-inspiron-16-5625-99vp91-bac.png', 'https://www.tnc.com.vn/uploads/product/sp2021/thumbs/200x200_laptop-dell-alienware-m15-r5-70262921-%C4%90en.png', 'https://www.tnc.com.vn/uploads/product/sp2021/thumbs/200x200_laptop-dell-g15-5511-70266676-xam.jpg', 'https://www.tnc.com.vn/uploads/product/sp2021/thumbs/200x200_laptop-dell-g15-5515-70266675-xam.jpg', 'https://www.tnc.com.vn/uploads/product/sp2021/thumbs/200x200_laptop-dell-alienware-m15-r6-p109f001dbl-%C4%90en.jpg', 'https://www.tnc.com.vn/uploads/product/sp2021/thumbs/200x200_laptop-dell-alienware-m15-r6-p109f001cbl-%C4%90en.jpg', 'https://www.tnc.com.vn/uploads/product/sp2021/thumbs/200x200_laptop-dell-xps-13-9310-6gh9x-bac.png', 'https://www.tnc.com.vn/uploads/product/sp2021/thumbs/200x200_laptop-dell-latitude-3420-42lt342002-den.jpg', 'https://www.tnc.com.vn/uploads/product/sp2021/thumbs/200x200_laptop-dell-latitude-3420-42lt342001-den.jpg', 'https://www.tnc.com.vn/uploads/product/sp2021/thumbs/200x200_laptop-dell-latitude-3420-l3420i3ssdf-den.jpg', 'https://www.tnc.com.vn/uploads/product/sp2021/thumbs/200x200_laptop-dell-latitude-3420-l3420i5ssdf-den.jpg', 'https://www.tnc.com.vn/uploads/product/sp2021/thumbs/200x200_laptop-dell-g15-5515-70266674-xam.jpg', 'https://www.tnc.com.vn/uploads/product/sp2021/thumbs/200x200_laptop-dell-vostro-13-5310-yv5wy3-xam.jpg', 'https://www.tnc.com.vn/uploads/product/sp2021/thumbs/200x200_laptop-dell-inspiron-14-5415-tx4h61-bac.jpg', 'https://www.tnc.com.vn/uploads/product/sp2021/thumbs/200x200_laptop-dell-inspiron-5515-n5r75700u104w1-bac.jpg', 'https://www.tnc.com.vn/uploads/product/sp2021/thumbs/200x200_laptop-dell-vostro-3405-v4r53500u003w1-den.jpg', 'https://www.tnc.com.vn/uploads/product/sp2021/thumbs/200x200_laptop-dell-vostro-3400-yx51w6-den.jpg', 'https://www.tnc.com.vn/uploads/product/sp2021/thumbs/200x200_laptop-dell-vostro-3400-yx51w5-den.jpg', 'https://www.tnc.com.vn/uploads/product/sp2021/thumbs/200x200_laptop-dell-inspiron-15-3515-g6gr71-den.jpg', 'https://www.tnc.com.vn/uploads/product/sp2021/thumbs/200x200_laptop-dell-inspiron-15-3515-g6gr72-den.jpg', 'https://www.tnc.com.vn/uploads/product/sp2021/thumbs/200x200_laptop-dell-vostro-3510-p112f002bbl-den.jpg', 'https://www.tnc.com.vn/uploads/product/sp2021/thumbs/200x200_laptop-dell-latitude-3420-42lt342003.jpg', 'https://www.tnc.com.vn/uploads/product/sp2021/thumbs/200x200_laptop-dell-inspiron-15-3511-70270652-bac.jpg', 'https://www.tnc.com.vn/uploads/product/sp2021/thumbs/200x200_laptop-dell-vostro-3510-7t2yc3-den.jpg', 'https://www.tnc.com.vn/uploads/product/sp2021/thumbs/200x200_laptop-dell-inspiron-5410-2in1-j42f82-bac.jpg', 'https://www.tnc.com.vn/uploads/product/sp2021/thumbs/200x200_laptop-dell-vostro-3510-7t2yc2-den.jpg', 'https://www.tnc.com.vn/uploads/product/sp2021/thumbs/200x200_laptop-dell-vostro-5410-v4i5214w1-xam.jpg', 'https://www.tnc.com.vn/uploads/product/sp2021/thumbs/200x200_laptop-dell-vostro-3510-v5i3305w-den.jpg', 'https://www.tnc.com.vn/uploads/product/sp2021/thumbs/200x200_laptop-dell-vostro-3400-v4i7015w1-den.jpg', 'https://www.tnc.com.vn/uploads/product/sp2021/thumbs/200x200_laptop-dell-vostro-3400-70270644-den.jpg', 'https://www.tnc.com.vn/uploads/product/sp2021/thumbs/200x200_laptop-dell-vostro-5515-70270649-xam.jpg', 'https://www.tnc.com.vn/uploads/product/sp2021/thumbs/thumbs/200x200_70270650.png', 'https://www.tnc.com.vn/uploads/product/sp2021/thumbs/200x200_laptop-dell-vostro-5510-70270646-xam.jpg', 'https://www.tnc.com.vn/uploads/product/sp2021/thumbs/200x200_laptop-dell-vostro-3400-70270645-den.jpg', 'https://www.tnc.com.vn/uploads/product/sp2021/thumbs/200x200_laptop-dell-g15-5511-p105f006bgr-xam.jpg', 'https://www.tnc.com.vn/uploads/product/sp2021/thumbs/200x200_laptop-dell-inspiron-5510-0wt8r2-bac.jpg', 'https://www.tnc.com.vn/uploads/product/sp2021/thumbs/200x200_laptop-dell-inspiron-14-5402-gvcnh2-bac.jpg', 'https://www.tnc.com.vn/uploads/product/sp2021/thumbs/200x200_laptop-dell-vostro-3405-p132g002abl-den.jpg', 'https://www.tnc.com.vn/uploads/product/sp2021/thumbs/200x200_laptop-dell-g15-5511-p105f006agr-xam.jpg', 'https://www.tnc.com.vn/uploads/product/sp2021/thumbs/200x200_laptop-dell-g15-5515-p105f004dgr-xam.jpg', 'https://www.tnc.com.vn/uploads/product/sp2021/thumbs/200x200_laptop-dell-g15-5515-p105f004cgr-xam.jpg', 'https://www.tnc.com.vn/uploads/product/sp2021/thumbs/200x200_laptop-dell-vostro-5515-k4y9x1-xam.jpg', 'https://www.tnc.com.vn/uploads/product/sp2021/thumbs/200x200_laptop-dell-dell-vostro-3510-v5i3205w-den.png', 'https://www.tnc.com.vn/uploads/product/sp2021/thumbs/200x200_laptop-dell-inspiron-5410-p143g001asl-bac.jpg', 'https://www.tnc.com.vn/uploads/product/sp2021/thumbs/200x200_laptop-dell-vostro-3400-yx51w3-den.jpg', 'https://www.tnc.com.vn/uploads/product/sp2021/thumbs/200x200_laptop-dell-inspiron-14-5415-70262929-bac.jpg', 'https://www.tnc.com.vn/uploads/product/sp2021/thumbs/200x200_laptop-dell-latitude-3520-70266801-den.jpg', 'https://www.tnc.com.vn/uploads/product/sp2021/thumbs/200x200_laptop-dell-vostro-5415-v4r55500u015w-xam.jpg', 'https://www.tnc.com.vn/uploads/product/sp2021/thumbs/200x200_laptop-dell-inspiron-5510-0wt8r1-bac.jpg', 'https://www.tnc.com.vn/uploads/product/sp2021/thumbs/200x200_laptop-dell-inspiron-5410-p147g002asl-bac.jpg', 'https://www.tnc.com.vn/uploads/product/sp2021/thumbs/200x200_laptop-dell-dell-vostro-3500-p90f006cbl-den.jpg', 'https://www.tnc.com.vn/uploads/product/sp2021/thumbs/200x200_laptop-dell-inspiron-5301-p121g002asl-bac.jpg', 'https://www.tnc.com.vn/uploads/product/sp2021/thumbs/200x200_laptop-dell-inspiron-7400-ddxgd1-bac.jpg', 'https://www.tnc.com.vn/uploads/product/sp2021/thumbs/200x200_laptop-dell-vostro-3510-7t2yc1-den.png', 'https://www.tnc.com.vn/uploads/product/sp2021/thumbs/200x200_laptop-dell-inspiron-15-3505-y1n1t5-den.jpg', 'https://www.tnc.com.vn/uploads/product/sp2021/thumbs/200x200_laptop-dell-inspiron-15-3505-y1n1t3-den.jpg', 'https://www.tnc.com.vn/uploads/product/sp2021/thumbs/200x200_laptop-dell-inspiron-15-3511-p112f001bbl-den.jpg', 'https://www.tnc.com.vn/uploads/product/sp2021/thumbs/200x200_laptop-dell-inspiron-15-3511-p112f001abl-den.jpg', 'https://www.tnc.com.vn/uploads/product/sp2021/thumbs/200x200_laptop-dell-vostro-3400-70253899-den.jpg', 'https://www.tnc.com.vn/uploads/product/sp2021/thumbs/200x200_laptop-dell-vostro-5510-70253901-xam.jpg', 'https://www.tnc.com.vn/uploads/product/sp2021/thumbs/200x200_laptop-dell-vostro-3400-70253900-den.jpg', 'https://www.tnc.com.vn/uploads/product/sp2021/thumbs/200x200_laptop-dell-inspiron-3501-70253897-den.jpg', 'https://www.tnc.com.vn/uploads/product/sp2021/thumbs/200x200_laptop-dell-inspiron-5410-j42f81-bac.jpg', 'https://www.tnc.com.vn/uploads/product/sp2021/thumbs/200x200_47371.jpg', 'https://www.tnc.com.vn/uploads/product/sp2021/thumbs/200x200_47350.jpg', 'https://www.tnc.com.vn/uploads/product/sp2021/thumbs/200x200_47347.jpg', 'https://www.tnc.com.vn/uploads/product/sp2021/thumbs/200x200_47340.jpg', 'https://www.tnc.com.vn/uploads/product/THAO_2021/thumbs/200x200_Dell-Vostro-3405_2.jpg', 'https://www.tnc.com.vn/uploads/product/sp2021/thumbs/200x200_laptop-dell-inspiron-7400-n4i5134w-bac.jpg', 'https://www.tnc.com.vn/uploads/product/XUYEN_012021/thumbs/200x200_Dell-Vostro-3400-261.jpg', 'https://www.tnc.com.vn/uploads/product/XUYEN_06_2021/thumbs/200x200_Dell-Latitude-3420.jpg', 'https://www.tnc.com.vn/uploads/product/XUYEN_07_2021/thumbs/200x200_Dell-Inspiron-7501.jpg', 'https://www.tnc.com.vn/uploads/product/XUYEN_07_2021/thumbs/200x200_Dell-Inspiron-5410.jpg', 'https://www.tnc.com.vn/uploads/product/XUYEN_07_2021/thumbs/200x200_Dell-Inspiron-5505.jpg', 'https://www.tnc.com.vn/uploads/product/XUYEN_07_2021/thumbs/200x200_laptop.jpg', 'https://www.tnc.com.vn/uploads/product/XUYEN_07_2021/thumbs/200x200_Dell-Inspiron-5301.jpg', 'https://www.tnc.com.vn/uploads/product/XUYEN_07_2021/thumbs/200x200_Dell-Vostro-5410-3.jpg', 'https://www.tnc.com.vn/uploads/product/XUYEN_07_2021/thumbs/200x200_vostro_13-5310nt_cnb_00000ff090.jpg', 'https://www.tnc.com.vn/uploads/product/XUYEN_07_2021/thumbs/200x200_Dell-G5-15-5505-2.jpg', 'https://www.tnc.com.vn/uploads/product/XUYEN_12_2020/thumbs/200x200_Dell-G3-15-3500_2.jpg', 'https://www.tnc.com.vn/uploads/product/XUYEN_12_2020/thumbs/200x200_Dell-G3-15-3500_2.jpg', 'https://www.tnc.com.vn/uploads/product/XUYEN_092020/thumbs/200x200_Dell-G3-15-3500.jpg', 'https://www.tnc.com.vn/uploads/product/XUYEN_12_2020/thumbs/200x200_Dell-G3-15-3500_2.jpg', 'https://www.tnc.com.vn/uploads/product/XUYEN_06_2021/thumbs/200x200_Dell-G3-3500-G3500Bw.jpg', 'https://www.tnc.com.vn/uploads/product/XUYEN_06_2021/thumbs/200x200_Dell-G3-3500-G3500Bw.jpg', 'https://www.tnc.com.vn/uploads/product/XUYEN_06_2021/thumbs/200x200_Dell-Latitude-7420.jpg', 'https://www.tnc.com.vn/uploads/product/XUYEN_06_2021/thumbs/200x200_Dell-Latitude-7320.jpg', 'https://www.tnc.com.vn/uploads/product/XUYEN_06_2021/thumbs/200x200_Dell-Latitude-7320.jpg', 'https://www.tnc.com.vn/uploads/product/XUYEN_06_2021/thumbs/200x200_Dell-Latitude-5520.jpg', 'https://www.tnc.com.vn/uploads/product/XUYEN_06_2021/thumbs/200x200_Dell-Latitude-5520.jpg', 'https://www.tnc.com.vn/uploads/product/XUYEN_06_2021/thumbs/200x200_Dell-Latitude-5420.jpg', 'https://www.tnc.com.vn/uploads/product/XUYEN_06_2021/thumbs/200x200_Dell-Latitude-3520-2.jpg', 'https://www.tnc.com.vn/uploads/product/XUYEN_06_2021/thumbs/200x200_Dell-Latitude-3520-2.jpg', 'https://www.tnc.com.vn/uploads/product/XUYEN_06_2021/thumbs/200x200_Dell-Latitude-3520-2.jpg', 'https://www.tnc.com.vn/uploads/product/XUYEN_06_2021/thumbs/200x200_Dell-Latitude-3520-2.jpg', 'https://www.tnc.com.vn/uploads/product/XUYEN_06_2021/thumbs/200x200_Dell-Latitude-3520-2.jpg', 'https://www.tnc.com.vn/uploads/product/XUYEN_06_2021/thumbs/200x200_Dell-Latitude-3520-2.jpg', 'https://www.tnc.com.vn/uploads/product/XUYEN_06_2021/thumbs/200x200_Dell-Latitude-3420.jpg', 'https://www.tnc.com.vn/uploads/product/XUYEN_06_2021/thumbs/200x200_Dell-Inspiron-5405.jpg', 'https://www.tnc.com.vn/uploads/product/xuyen_05_2021/thumbs/200x200_Dell-Latitude-3410.jpg', 'https://www.tnc.com.vn/uploads/product/xuyen_05_2021/thumbs/200x200_Dell-Inspiron-15-3505-1.jpg', 'https://www.tnc.com.vn/uploads/product/xuyen_05_2021/thumbs/200x200_Dell-Inspiron-5405.jpg', 'https://www.tnc.com.vn/uploads/product/xuyen_05_2021/thumbs/200x200_Dell-Inspiron-3501-6.jpg', 'https://www.tnc.com.vn/uploads/product/XUYEN_012021/thumbs/200x200_Dell-Inspiron-5402-8.jpg', 'https://www.tnc.com.vn/uploads/product/XUYEN_04_2021/thumbs/200x200_Dell-Latitude-3510.jpg', 'https://www.tnc.com.vn/uploads/product/XUYEN_102020/thumbs/200x200_Dell-Inspiron-3501-6.jpg', 'https://www.tnc.com.vn/uploads/product/XUYEN_102020/thumbs/200x200_Dell-Inspiron-3501-6.jpg', 'https://www.tnc.com.vn/uploads/product/XUYEN_012021/thumbs/200x200_Dell-Vostro-3500.jpg', 'https://www.tnc.com.vn/uploads/product/XUYEN_012021/thumbs/200x200_Dell-Vostro-3500.jpg', 'https://www.tnc.com.vn/uploads/product/XUYEN_012021/thumbs/200x200_Dell-Vostro-3500.jpg', 'https://www.tnc.com.vn/uploads/product/XUYEN_012021/thumbs/200x200_Dell-Vostro-3500.jpg', 'https://www.tnc.com.vn/uploads/product/XUYEN_012021/thumbs/200x200_Dell-Vostro-3400-261.jpg', 'https://www.tnc.com.vn/uploads/product/XUYEN_012021/thumbs/200x200_Dell-Vostro-3400-261.jpg', 'https://www.tnc.com.vn/uploads/product/XUYEN_012021/thumbs/200x200_Dell-Vostro-3400-261.jpg', 'https://www.tnc.com.vn/uploads/product/XUYEN_012021/thumbs/200x200_Dell-Inspiron-5402-8.jpg', 'https://www.tnc.com.vn/uploads/product/XUYEN_012021/thumbs/200x200_Dell-Vostro-3400-26.jpg', 'https://www.tnc.com.vn/uploads/product/XUYEN_012021/thumbs/200x200_Dell-Vostro-5502-9.jpg', 'https://www.tnc.com.vn/uploads/product/XUYEN_12_2020/thumbs/200x200_Dell-Vostro-5502-9.jpg', 'https://www.tnc.com.vn/uploads/product/XUYEN_12_2020/thumbs/200x200_Dell-Inspiron-550211.jpg', 'https://www.tnc.com.vn/uploads/product/XUYEN_07_2021/thumbs/200x200_Dell-Vostro-3500.jpg', 'https://www.tnc.com.vn/uploads/product/XUYEN_12_2020/thumbs/200x200_Dell-G7-7500-9.jpg', 'https://www.tnc.com.vn/uploads/product/XUYEN_12_2020/thumbs/200x200_Dell-G7-7500-9.jpg', 'https://www.tnc.com.vn/uploads/product/XUYEN_12_2020/thumbs/200x200_Dell-Inspiron-5406-11.jpg', 'https://www.tnc.com.vn/uploads/product/XUYEN_12_2020/thumbs/200x200_Dell-Inspiron-5406-1.jpg', 'https://www.tnc.com.vn/uploads/product/XUYEN_12_2020/thumbs/200x200_Dell-Inspiron-7400-2.jpg', 'https://www.tnc.com.vn/uploads/product/XUYEN_12_2020/thumbs/200x200_Dell-Inspiron-55021.jpg', 'https://www.tnc.com.vn/uploads/product/XUYEN_12_2020/thumbs/200x200_Dell-G3-15-3500_2.jpg', 'https://www.tnc.com.vn/uploads/product/XUYEN_12_2020/thumbs/200x200_Dell-Inspiron-5502.jpg', 'https://www.tnc.com.vn/uploads/product/XUYEN_12_2020/thumbs/200x200_Dell-Vostro-5301-1.jpg', 'https://www.tnc.com.vn/uploads/product/XUYEN_12_2020/thumbs/200x200_Dell-Vostro-5502-9.jpg', 'https://www.tnc.com.vn/uploads/product/XUYEN_12_2020/thumbs/200x200_Dell-Vostro-5402-10.jpg', 'https://www.tnc.com.vn/uploads/product/XUYEN_12_2020/thumbs/200x200_Dell-Inspiron-3501-6_11.jpg', 'https://www.tnc.com.vn/uploads/product/XUYEN_12_2020/thumbs/200x200_Dell-Inspiron-5406-1.jpg', 'https://www.tnc.com.vn/uploads/product/XUYEN_12_2020/thumbs/200x200_Dell-Inspiron-5301.jpg', 'https://www.tnc.com.vn/uploads/product/XUYEN_12_2020/thumbs/200x200_Dell-Inspiron-3501-6_1.jpg', 'https://www.tnc.com.vn/uploads/product/XUYEN_12_2020/thumbs/200x200_Dell-Vostro-5301-1.jpg', 'https://www.tnc.com.vn/uploads/product/XUYEN_12_2020/thumbs/200x200_Dell-Vostro-5301-1.jpg', 'https://www.tnc.com.vn/uploads/product/XUYEN_102020/thumbs/200x200_Dell-Vostro-5402-10.jpg', 'https://www.tnc.com.vn/uploads/product/XUYEN_102020/thumbs/200x200_Dell-Vostro-5402-10.jpg', 'https://www.tnc.com.vn/uploads/product/XUYEN_102020/thumbs/200x200_Dell-Inspiron-15-3505-1.jpg', 'https://www.tnc.com.vn/uploads/product/XUYEN_102020/thumbs/200x200_DELL-Inspiron-7306-N7306A-12.jpg', 'https://www.tnc.com.vn/uploads/product/thumbs/200x200_logo_600x600.jpg', 'https://www.tnc.com.vn/uploads/product/XUYEN_102020/thumbs/200x200_Dell-Vostro-3405-1.jpg', 'https://www.tnc.com.vn/uploads/product/XUYEN_102020/thumbs/200x200_DELL-Inspiron-7306.jpg', 'https://www.tnc.com.vn/uploads/product/XUYEN_102020/thumbs/200x200_Dell-Vostro-3491-36.jpg', 'https://www.tnc.com.vn/uploads/product/XUYEN_102020/thumbs/200x200_Dell-Vostro-3491-36.jpg', 'https://www.tnc.com.vn/uploads/product/XUYEN_102020/thumbs/200x200_Dell-Vostro-3405-1.jpg', 'https://www.tnc.com.vn/uploads/product/XUYEN_092020/thumbs/200x200_Dell-G5-15-5500.jpg', 'https://www.tnc.com.vn/uploads/product/XUYEN_092020/thumbs/200x200_Dell-G5-15-5500.jpg', 'https://www.tnc.com.vn/uploads/product/XUYEN_092020/thumbs/200x200_Dell-G5-15-5500.jpg', 'https://www.tnc.com.vn/uploads/product/XUYEN_092020/thumbs/200x200_Dell-G3-15-3500.jpg', 'https://www.tnc.com.vn/uploads/product/xuyen_05_2021/thumbs/200x200_Dell-Latitude-3410.jpg', 'https://www.tnc.com.vn/uploads/product/092020/thumbs/200x200_Dell-G3-3500.jpg', 'https://www.tnc.com.vn/uploads/product/092020/thumbs/200x200_Dell-G3-3500.jpg', 'https://www.tnc.com.vn/uploads/product/thumbs/200x200_logo_600x600.jpg', 'https://www.tnc.com.vn/uploads/product/082020/thumbs/200x200_Dell-Latitude-5410-1.jpg', 'https://www.tnc.com.vn/uploads/product/082020/thumbs/200x200_Dell-Latitude-5410-1.jpg', 'https://www.tnc.com.vn/uploads/product/082020/thumbs/200x200_Dell-Latitude-3510.jpg', 'https://www.tnc.com.vn/uploads/product/082020/thumbs/200x200_Dell-Latitude-3510.jpg', 'https://www.tnc.com.vn/uploads/product/072020/thumbs/200x200_dell-5510.jpg', 'https://www.tnc.com.vn/uploads/product/082020/thumbs/200x200_Dell-Latitude-7310.jpg', 'https://www.tnc.com.vn/uploads/product/082020/thumbs/200x200_Dell-Latitude-7310.jpg', 'https://www.tnc.com.vn/uploads/product/082020/thumbs/200x200_Dell-Latitude-5410-1.jpg', 'https://www.tnc.com.vn/uploads/product/072020/thumbs/200x200_Untitled-1.jpg', 'https://www.tnc.com.vn/uploads/product/xuyen_05_2021/thumbs/200x200_Dell-Latitude-3410.jpg', 'https://www.tnc.com.vn/uploads/product/xuyen_05_2021/thumbs/200x200_Dell-Latitude-3410.jpg', 'https://www.tnc.com.vn/uploads/product/xuyen_05_2021/thumbs/200x200_Dell-Latitude-3410.jpg', 'https://www.tnc.com.vn/uploads/product/xuyen012020/thumbs/200x200_Dell-Latitude-5500.jpg', 'https://www.tnc.com.vn/uploads/product/xuyen012020/thumbs/200x200_Dell-Latitude-5500.jpg', 'https://www.tnc.com.vn/uploads/product/9_2019/thumbs/200x200_Dell-Latitude-5400.jpg', 'https://www.tnc.com.vn/uploads/product/THANG_7_2019/thumbs/200x200_Laptop-Dell-Latitude-3500-6_1.jpg', 'https://www.tnc.com.vn/uploads/product/THANG%2012-2019/thumbs/200x200_Dell-Latitude-3400.jpg', 'https://www.tnc.com.vn/uploads/product/THANG%2012-2019/thumbs/200x200_Dell-Latitude-3400.jpg', 'https://www.tnc.com.vn/uploads/product/102019/thumbs/200x200_notebook-latitude-14-3400-campaign-hero-504x350-ng.jpg']\n",
      "['370x200_laptop-dell-inspiron-15-3520-n3520-i3u082w11blu-%C4%90en.jpg', '370x200_laptop-dell-inspiron-15-3505-y1n1t5-den.jpg', '370x200_laptop-dell-inspiron-15-3530-n3530-i3u085w11blu-carbon-black.jpg', '370x200_laptop-dell-vostro-3530-v5i3001w1-xam.jpg', '370x200_laptop-dell-latitude-3520-71004153-%C4%90en.jpg', '370x200_laptop-dell-inspiron-15-3520-n3520-i5u085w11blu-%C4%90en.jpg', '370x200_laptop-dell-latitude-3520-71012511-%C4%90en.jpg', '370x200_laptop-dell-vostro-3420-71003348-xam.jpg', '370x200_laptop-dell-vostro-15-3520-5m2tt2-xam.jpg', '370x200_laptop-dell-latitude-3420-l3420i5ssdfb-%C4%90en.jpg', '370x200_laptop-dell-inspiron-15-3530-n3530-i5u085w11blu-carbon-black.jpg', '370x200_laptop-dell-latitude-3520-70280543-%C4%90en.jpg', '370x200_laptop-dell-vostro-3430-71011900-%C4%90en.jpg', '370x200_laptop-dell-vostro-15-3530-80gg9-xam.jpg', '370x200_laptop-dell-latitude-3420-l3420i5ssdfb_3y-%C4%90en.jpg', '370x200_laptop-dell-inspiron-15-3520-71003262-den.jpg', '370x200_laptop-dell-latitude-3420-l3420i5ssdf512b_3y-%C4%90en.jpg', '370x200_laptop-dell-inspiron-15-3530-71011775-den.jpg', '370x200_laptop-dell-latitude-3520-70280543-Djen.jpg', '370x200_laptop-dell-vostro-14-3430-60ygm-xam.jpg', '370x200_laptop-dell-latitude-5430-71004111-xam.jpg', '370x200_laptop-dell-latitude-3520-71012298-%C4%90en.jpg', '370x200_laptop-dell-vostro-5630-v5630-i5p085w11gru-xam.jpg', '370x200_laptop-dell-latitude-5530-71004112-%C4%90en.jpg', '370x200_laptop-lenovo-thinkpad-e14-gen-5-21jk006hva-den.jpg', '370x200_laptop-dell-latitude-5530-71004116-den.jpg', '370x200_laptop-dell-vostro-5620-70296963-xam.jpg', '370x200_laptop-dell-vostro-5620-vwxvw-xam.jpg', '370x200_laptop-dell-vostro-15-3530-80gg91-xam.jpg', '370x200_laptop-dell-g15-5525-g15-5525-r7h165w11gr3060-%C4%90en.jpg', '370x200_laptop-dell-inspiron-14-5430-20dy31-bac.jpg', '370x200_laptop-dell-latitude-5430-l5430i714u-%C4%90en.jpg', '370x200_laptop-dell-latitude-5430-l5430i714u_512-%C4%90en.jpg', '370x200_laptop-dell-latitude-5430-l5430i714u3y-%C4%90en.jpg', '370x200_laptop-dell-vostro-16-5630-tht7n-xam.jpg', '370x200_laptop-dell-gaming-g15-5530-g15-5530-i7h165w11gr4050-xam.jpg', '370x200_laptop-dell-gaming-g15-5530-g15-5530-i7h165w11gr4060-xam.jpg', '370x200_laptop-dell-alienware-m15-r6-p109f001cbl-%C4%90en.jpg', '370x200_laptop-dell-vostro-3430-v3430-i7u165w11grd2-xam.jpg', '370x200_laptop-hp-elite-dragonfly-g3-6z980pa-xanh.png', '200x200_laptop-dell-vostro-3520-v5i3614w1-xam.jpg', '200x200_laptop-dell-vostro-14-3420-fd9gg-%C4%90en.jpg', '200x200_laptop-dell-vostro-15-3520-5m2tt3-xam.jpg', '200x200_laptop-dell-vostro-15-3520-5m2tt2-xam.jpg', '200x200_laptop-dell-vostro-15-3520-5m2tt1-xam.jpg', '200x200_laptop-dell-inspiron-16-5620-71003903-bac.jpg', '200x200_laptop-dell-vostro-3420-71003348-xam.jpg', '200x200_laptop-dell-g15-5525-g15-5525-r5h085w11gr3050-%C4%90en.jpg', '200x200_laptop-dell-inspiron-16-5620-n5620-i5p165w11slu-bac.jpg', '200x200_laptop-dell-inspiron-14-5420-n5420-i5u085w11slu-bac.jpg', '200x200_laptop-dell-inspiron-15-3520-n3520-i5u085w11blu-%C4%90en.jpg', '200x200_laptop-dell-inspiron-15-3520-n3520-i3u082w11blu-%C4%90en.jpg', '200x200_laptop-dell-inspiron-15-3520-71003264-%C4%90en.jpg', '200x200_laptop-dell-g15-5520-i7h165w11gr3050ti.png', '200x200_laptop-dell-vostro-5620-vwxvw-xam.jpg', '200x200_laptop-dell-inspiron-14-5420-dgdcg2-bac.jpg', '200x200_laptop-dell-inspiron-15-3520-71001747-%C4%90en.jpg', '200x200_laptop-dell-latitude-3420-l3420i5ssdf512b-%C4%90en.jpg', '200x200_laptop-dell-inspiron-15-3520-70296960-den.jpg', '200x200_laptop-dell-inspiron-14-5420-70295791-bac.jpg', '200x200_laptop-dell-inspiron-14-5420-dgdcg1-bac.jpg', '200x200_laptop-dell-inspiron-5620-p1wkn-bac.jpg', '200x200_laptop-dell-inspiron-5620-n6i7004w1-bac.jpg', '200x200_laptop-dell-vostro-5320-m32dh1-xam.jpg', '200x200_laptop-dell-vostro-5320-v3i7005w-xam.jpg', '200x200_laptop-dell-vostro-5620-70296963-xam.jpg', '200x200_laptop-dell-latitude-5420-l5420i714df-%C4%90en.jpg', '200x200_laptop-dell-vostro-3425-v4r35425u100w1-%C4%90en.jpg', '200x200_laptop-dell-vostro-5320-v3i7007w-xam.jpg', '200x200_laptop-dell-inspiron-t7420-2-in-1-n4i5021w-bac.jpg', '200x200_laptop-dell-inspiron-5620-n6i7000w1-bac.jpg', '200x200_laptop-dell-inspiron-5620-n6i5003w1-bac.jpg', '200x200_laptop-dell-vostro-14-5415-p143g002agr-xam.jpg', '200x200_laptop-dell-vostro-5620-p117f001agr-xam.jpg', '200x200_laptop-dell-inspiron-14-7420-2-in-1-p161g001asl-bac.jpg', '200x200_laptop-dell-vostro-5320-p156g001agr-xam.jpg', '200x200_laptop-dell-inspiron-14-5420-p157g001asl-bac.jpg', '200x200_laptop-dell-latitude-3420-l3420i5ssdfb-%C4%90en.jpg', '200x200_laptop-dell-inspiron-16-5625-70281537-bac.png', '200x200_laptop-dell-vostro-5620-70282719-xam.jpg', '200x200_laptop-dell-vostro-3420-70283385-%C4%90en.jpg', '200x200_laptop-dell-vostro-3420-70283384-%C4%90en.jpg', '200x200_laptop-dell-latitude-7420-42lt742000-%C4%90en.png', '200x200_laptop-dell-inspiron-16-5625-99vp91-bac.png', '200x200_laptop-dell-alienware-m15-r5-70262921-%C4%90en.png', '200x200_laptop-dell-g15-5511-70266676-xam.jpg', '200x200_laptop-dell-g15-5515-70266675-xam.jpg', '200x200_laptop-dell-alienware-m15-r6-p109f001dbl-%C4%90en.jpg', '200x200_laptop-dell-alienware-m15-r6-p109f001cbl-%C4%90en.jpg', '200x200_laptop-dell-xps-13-9310-6gh9x-bac.png', '200x200_laptop-dell-latitude-3420-42lt342002-den.jpg', '200x200_laptop-dell-latitude-3420-42lt342001-den.jpg', '200x200_laptop-dell-latitude-3420-l3420i3ssdf-den.jpg', '200x200_laptop-dell-latitude-3420-l3420i5ssdf-den.jpg', '200x200_laptop-dell-g15-5515-70266674-xam.jpg', '200x200_laptop-dell-vostro-13-5310-yv5wy3-xam.jpg', '200x200_laptop-dell-inspiron-14-5415-tx4h61-bac.jpg', '200x200_laptop-dell-inspiron-5515-n5r75700u104w1-bac.jpg', '200x200_laptop-dell-vostro-3405-v4r53500u003w1-den.jpg', '200x200_laptop-dell-vostro-3400-yx51w6-den.jpg', '200x200_laptop-dell-vostro-3400-yx51w5-den.jpg', '200x200_laptop-dell-inspiron-15-3515-g6gr71-den.jpg', '200x200_laptop-dell-inspiron-15-3515-g6gr72-den.jpg', '200x200_laptop-dell-vostro-3510-p112f002bbl-den.jpg', '200x200_laptop-dell-latitude-3420-42lt342003.jpg', '200x200_laptop-dell-inspiron-15-3511-70270652-bac.jpg', '200x200_laptop-dell-vostro-3510-7t2yc3-den.jpg', '200x200_laptop-dell-inspiron-5410-2in1-j42f82-bac.jpg', '200x200_laptop-dell-vostro-3510-7t2yc2-den.jpg', '200x200_laptop-dell-vostro-5410-v4i5214w1-xam.jpg', '200x200_laptop-dell-vostro-3510-v5i3305w-den.jpg', '200x200_laptop-dell-vostro-3400-v4i7015w1-den.jpg', '200x200_laptop-dell-vostro-3400-70270644-den.jpg', '200x200_laptop-dell-vostro-5515-70270649-xam.jpg', '200x200_70270650.png', '200x200_laptop-dell-vostro-5510-70270646-xam.jpg', '200x200_laptop-dell-vostro-3400-70270645-den.jpg', '200x200_laptop-dell-g15-5511-p105f006bgr-xam.jpg', '200x200_laptop-dell-inspiron-5510-0wt8r2-bac.jpg', '200x200_laptop-dell-inspiron-14-5402-gvcnh2-bac.jpg', '200x200_laptop-dell-vostro-3405-p132g002abl-den.jpg', '200x200_laptop-dell-g15-5511-p105f006agr-xam.jpg', '200x200_laptop-dell-g15-5515-p105f004dgr-xam.jpg', '200x200_laptop-dell-g15-5515-p105f004cgr-xam.jpg', '200x200_laptop-dell-vostro-5515-k4y9x1-xam.jpg', '200x200_laptop-dell-dell-vostro-3510-v5i3205w-den.png', '200x200_laptop-dell-inspiron-5410-p143g001asl-bac.jpg', '200x200_laptop-dell-vostro-3400-yx51w3-den.jpg', '200x200_laptop-dell-inspiron-14-5415-70262929-bac.jpg', '200x200_laptop-dell-latitude-3520-70266801-den.jpg', '200x200_laptop-dell-vostro-5415-v4r55500u015w-xam.jpg', '200x200_laptop-dell-inspiron-5510-0wt8r1-bac.jpg', '200x200_laptop-dell-inspiron-5410-p147g002asl-bac.jpg', '200x200_laptop-dell-dell-vostro-3500-p90f006cbl-den.jpg', '200x200_laptop-dell-inspiron-5301-p121g002asl-bac.jpg', '200x200_laptop-dell-inspiron-7400-ddxgd1-bac.jpg', '200x200_laptop-dell-vostro-3510-7t2yc1-den.png', '200x200_laptop-dell-inspiron-15-3505-y1n1t5-den.jpg', '200x200_laptop-dell-inspiron-15-3505-y1n1t3-den.jpg', '200x200_laptop-dell-inspiron-15-3511-p112f001bbl-den.jpg', '200x200_laptop-dell-inspiron-15-3511-p112f001abl-den.jpg', '200x200_laptop-dell-vostro-3400-70253899-den.jpg', '200x200_laptop-dell-vostro-5510-70253901-xam.jpg', '200x200_laptop-dell-vostro-3400-70253900-den.jpg', '200x200_laptop-dell-inspiron-3501-70253897-den.jpg', '200x200_laptop-dell-inspiron-5410-j42f81-bac.jpg', '200x200_47371.jpg', '200x200_47350.jpg', '200x200_47347.jpg', '200x200_47340.jpg', '200x200_Dell-Vostro-3405_2.jpg', '200x200_laptop-dell-inspiron-7400-n4i5134w-bac.jpg', '200x200_Dell-Vostro-3400-261.jpg', '200x200_Dell-Latitude-3420.jpg', '200x200_Dell-Inspiron-7501.jpg', '200x200_Dell-Inspiron-5410.jpg', '200x200_Dell-Inspiron-5505.jpg', '200x200_laptop.jpg', '200x200_Dell-Inspiron-5301.jpg', '200x200_Dell-Vostro-5410-3.jpg', '200x200_vostro_13-5310nt_cnb_00000ff090.jpg', '200x200_Dell-G5-15-5505-2.jpg', '200x200_Dell-G3-15-3500_2.jpg', '200x200_Dell-G3-15-3500_2.jpg', '200x200_Dell-G3-15-3500.jpg', '200x200_Dell-G3-15-3500_2.jpg', '200x200_Dell-G3-3500-G3500Bw.jpg', '200x200_Dell-G3-3500-G3500Bw.jpg', '200x200_Dell-Latitude-7420.jpg', '200x200_Dell-Latitude-7320.jpg', '200x200_Dell-Latitude-7320.jpg', '200x200_Dell-Latitude-5520.jpg', '200x200_Dell-Latitude-5520.jpg', '200x200_Dell-Latitude-5420.jpg', '200x200_Dell-Latitude-3520-2.jpg', '200x200_Dell-Latitude-3520-2.jpg', '200x200_Dell-Latitude-3520-2.jpg', '200x200_Dell-Latitude-3520-2.jpg', '200x200_Dell-Latitude-3520-2.jpg', '200x200_Dell-Latitude-3520-2.jpg', '200x200_Dell-Latitude-3420.jpg', '200x200_Dell-Inspiron-5405.jpg', '200x200_Dell-Latitude-3410.jpg', '200x200_Dell-Inspiron-15-3505-1.jpg', '200x200_Dell-Inspiron-5405.jpg', '200x200_Dell-Inspiron-3501-6.jpg', '200x200_Dell-Inspiron-5402-8.jpg', '200x200_Dell-Latitude-3510.jpg', '200x200_Dell-Inspiron-3501-6.jpg', '200x200_Dell-Inspiron-3501-6.jpg', '200x200_Dell-Vostro-3500.jpg', '200x200_Dell-Vostro-3500.jpg', '200x200_Dell-Vostro-3500.jpg', '200x200_Dell-Vostro-3500.jpg', '200x200_Dell-Vostro-3400-261.jpg', '200x200_Dell-Vostro-3400-261.jpg', '200x200_Dell-Vostro-3400-261.jpg', '200x200_Dell-Inspiron-5402-8.jpg', '200x200_Dell-Vostro-3400-26.jpg', '200x200_Dell-Vostro-5502-9.jpg', '200x200_Dell-Vostro-5502-9.jpg', '200x200_Dell-Inspiron-550211.jpg', '200x200_Dell-Vostro-3500.jpg', '200x200_Dell-G7-7500-9.jpg', '200x200_Dell-G7-7500-9.jpg', '200x200_Dell-Inspiron-5406-11.jpg', '200x200_Dell-Inspiron-5406-1.jpg', '200x200_Dell-Inspiron-7400-2.jpg', '200x200_Dell-Inspiron-55021.jpg', '200x200_Dell-G3-15-3500_2.jpg', '200x200_Dell-Inspiron-5502.jpg', '200x200_Dell-Vostro-5301-1.jpg', '200x200_Dell-Vostro-5502-9.jpg', '200x200_Dell-Vostro-5402-10.jpg', '200x200_Dell-Inspiron-3501-6_11.jpg', '200x200_Dell-Inspiron-5406-1.jpg', '200x200_Dell-Inspiron-5301.jpg', '200x200_Dell-Inspiron-3501-6_1.jpg', '200x200_Dell-Vostro-5301-1.jpg', '200x200_Dell-Vostro-5301-1.jpg', '200x200_Dell-Vostro-5402-10.jpg', '200x200_Dell-Vostro-5402-10.jpg', '200x200_Dell-Inspiron-15-3505-1.jpg', '200x200_DELL-Inspiron-7306-N7306A-12.jpg', '200x200_logo_600x600.jpg', '200x200_Dell-Vostro-3405-1.jpg', '200x200_DELL-Inspiron-7306.jpg', '200x200_Dell-Vostro-3491-36.jpg', '200x200_Dell-Vostro-3491-36.jpg', '200x200_Dell-Vostro-3405-1.jpg', '200x200_Dell-G5-15-5500.jpg', '200x200_Dell-G5-15-5500.jpg', '200x200_Dell-G5-15-5500.jpg', '200x200_Dell-G3-15-3500.jpg', '200x200_Dell-Latitude-3410.jpg', '200x200_Dell-G3-3500.jpg', '200x200_Dell-G3-3500.jpg', '200x200_logo_600x600.jpg', '200x200_Dell-Latitude-5410-1.jpg', '200x200_Dell-Latitude-5410-1.jpg', '200x200_Dell-Latitude-3510.jpg', '200x200_Dell-Latitude-3510.jpg', '200x200_dell-5510.jpg', '200x200_Dell-Latitude-7310.jpg', '200x200_Dell-Latitude-7310.jpg', '200x200_Dell-Latitude-5410-1.jpg', '200x200_Untitled-1.jpg', '200x200_Dell-Latitude-3410.jpg', '200x200_Dell-Latitude-3410.jpg', '200x200_Dell-Latitude-3410.jpg', '200x200_Dell-Latitude-5500.jpg', '200x200_Dell-Latitude-5500.jpg', '200x200_Dell-Latitude-5400.jpg', '200x200_Laptop-Dell-Latitude-3500-6_1.jpg', '200x200_Dell-Latitude-3400.jpg', '200x200_Dell-Latitude-3400.jpg', '200x200_notebook-latitude-14-3400-campaign-hero-504x350-ng.jpg']\n"
     ]
    }
   ],
   "source": [
    "text_image_names = []\n",
    "image_links = []\n",
    "for img_product_image in img_product_images:\n",
    "    image_link = img_product_image.get_attribute('src')\n",
    "    image_links.append(image_link)\n",
    "\n",
    "    image_name = image_link.split('/')[-1]\n",
    "    text_image_names.append(image_name)\n",
    "print(image_links)\n",
    "print(text_image_names)\n"
   ]
  },
  {
   "cell_type": "code",
   "execution_count": 14,
   "metadata": {},
   "outputs": [
    {
     "name": "stdout",
     "output_type": "stream",
     "text": [
      "1. Downloaded 370x200_laptop-dell-inspiron-15-3520-n3520-i3u082w11blu-%C4%90en.jpg\n",
      "2. Downloaded 370x200_laptop-dell-inspiron-15-3505-y1n1t5-den.jpg\n",
      "3. Downloaded 370x200_laptop-dell-inspiron-15-3530-n3530-i3u085w11blu-carbon-black.jpg\n",
      "4. Downloaded 370x200_laptop-dell-vostro-3530-v5i3001w1-xam.jpg\n",
      "5. Downloaded 370x200_laptop-dell-latitude-3520-71004153-%C4%90en.jpg\n",
      "6. Downloaded 370x200_laptop-dell-inspiron-15-3520-n3520-i5u085w11blu-%C4%90en.jpg\n",
      "7. Downloaded 370x200_laptop-dell-latitude-3520-71012511-%C4%90en.jpg\n",
      "8. Downloaded 370x200_laptop-dell-vostro-3420-71003348-xam.jpg\n",
      "9. Downloaded 370x200_laptop-dell-vostro-15-3520-5m2tt2-xam.jpg\n",
      "10. Downloaded 370x200_laptop-dell-latitude-3420-l3420i5ssdfb-%C4%90en.jpg\n",
      "11. Downloaded 370x200_laptop-dell-inspiron-15-3530-n3530-i5u085w11blu-carbon-black.jpg\n",
      "12. Downloaded 370x200_laptop-dell-latitude-3520-70280543-%C4%90en.jpg\n",
      "13. Downloaded 370x200_laptop-dell-vostro-3430-71011900-%C4%90en.jpg\n",
      "14. Downloaded 370x200_laptop-dell-vostro-15-3530-80gg9-xam.jpg\n",
      "15. Downloaded 370x200_laptop-dell-latitude-3420-l3420i5ssdfb_3y-%C4%90en.jpg\n",
      "16. Downloaded 370x200_laptop-dell-inspiron-15-3520-71003262-den.jpg\n",
      "17. Downloaded 370x200_laptop-dell-latitude-3420-l3420i5ssdf512b_3y-%C4%90en.jpg\n",
      "18. Downloaded 370x200_laptop-dell-inspiron-15-3530-71011775-den.jpg\n",
      "19. Downloaded 370x200_laptop-dell-latitude-3520-70280543-Djen.jpg\n",
      "20. Downloaded 370x200_laptop-dell-vostro-14-3430-60ygm-xam.jpg\n",
      "21. Downloaded 370x200_laptop-dell-latitude-5430-71004111-xam.jpg\n",
      "22. Downloaded 370x200_laptop-dell-latitude-3520-71012298-%C4%90en.jpg\n",
      "23. Downloaded 370x200_laptop-dell-vostro-5630-v5630-i5p085w11gru-xam.jpg\n",
      "24. Downloaded 370x200_laptop-dell-latitude-5530-71004112-%C4%90en.jpg\n",
      "25. Downloaded 370x200_laptop-lenovo-thinkpad-e14-gen-5-21jk006hva-den.jpg\n",
      "26. Downloaded 370x200_laptop-dell-latitude-5530-71004116-den.jpg\n",
      "27. Downloaded 370x200_laptop-dell-vostro-5620-70296963-xam.jpg\n",
      "28. Downloaded 370x200_laptop-dell-vostro-5620-vwxvw-xam.jpg\n",
      "29. Downloaded 370x200_laptop-dell-vostro-15-3530-80gg91-xam.jpg\n",
      "30. Downloaded 370x200_laptop-dell-g15-5525-g15-5525-r7h165w11gr3060-%C4%90en.jpg\n",
      "31. Downloaded 370x200_laptop-dell-inspiron-14-5430-20dy31-bac.jpg\n",
      "32. Downloaded 370x200_laptop-dell-latitude-5430-l5430i714u-%C4%90en.jpg\n",
      "33. Downloaded 370x200_laptop-dell-latitude-5430-l5430i714u_512-%C4%90en.jpg\n",
      "34. Downloaded 370x200_laptop-dell-latitude-5430-l5430i714u3y-%C4%90en.jpg\n",
      "35. Downloaded 370x200_laptop-dell-vostro-16-5630-tht7n-xam.jpg\n",
      "36. Downloaded 370x200_laptop-dell-gaming-g15-5530-g15-5530-i7h165w11gr4050-xam.jpg\n",
      "37. Downloaded 370x200_laptop-dell-gaming-g15-5530-g15-5530-i7h165w11gr4060-xam.jpg\n",
      "38. Downloaded 370x200_laptop-dell-alienware-m15-r6-p109f001cbl-%C4%90en.jpg\n",
      "39. Downloaded 370x200_laptop-dell-vostro-3430-v3430-i7u165w11grd2-xam.jpg\n",
      "40. Downloaded 370x200_laptop-hp-elite-dragonfly-g3-6z980pa-xanh.png\n",
      "41. Downloaded 200x200_laptop-dell-vostro-3520-v5i3614w1-xam.jpg\n",
      "42. Downloaded 200x200_laptop-dell-vostro-14-3420-fd9gg-%C4%90en.jpg\n",
      "43. Downloaded 200x200_laptop-dell-vostro-15-3520-5m2tt3-xam.jpg\n",
      "44. Downloaded 200x200_laptop-dell-vostro-15-3520-5m2tt2-xam.jpg\n",
      "45. Downloaded 200x200_laptop-dell-vostro-15-3520-5m2tt1-xam.jpg\n",
      "46. Downloaded 200x200_laptop-dell-inspiron-16-5620-71003903-bac.jpg\n",
      "47. Downloaded 200x200_laptop-dell-vostro-3420-71003348-xam.jpg\n",
      "48. Downloaded 200x200_laptop-dell-g15-5525-g15-5525-r5h085w11gr3050-%C4%90en.jpg\n",
      "49. Downloaded 200x200_laptop-dell-inspiron-16-5620-n5620-i5p165w11slu-bac.jpg\n",
      "50. Downloaded 200x200_laptop-dell-inspiron-14-5420-n5420-i5u085w11slu-bac.jpg\n",
      "51. Downloaded 200x200_laptop-dell-inspiron-15-3520-n3520-i5u085w11blu-%C4%90en.jpg\n",
      "52. Downloaded 200x200_laptop-dell-inspiron-15-3520-n3520-i3u082w11blu-%C4%90en.jpg\n",
      "53. Downloaded 200x200_laptop-dell-inspiron-15-3520-71003264-%C4%90en.jpg\n",
      "54. Downloaded 200x200_laptop-dell-g15-5520-i7h165w11gr3050ti.png\n",
      "55. Downloaded 200x200_laptop-dell-vostro-5620-vwxvw-xam.jpg\n",
      "56. Downloaded 200x200_laptop-dell-inspiron-14-5420-dgdcg2-bac.jpg\n",
      "57. Downloaded 200x200_laptop-dell-inspiron-15-3520-71001747-%C4%90en.jpg\n",
      "58. Downloaded 200x200_laptop-dell-latitude-3420-l3420i5ssdf512b-%C4%90en.jpg\n",
      "59. Downloaded 200x200_laptop-dell-inspiron-15-3520-70296960-den.jpg\n",
      "60. Downloaded 200x200_laptop-dell-inspiron-14-5420-70295791-bac.jpg\n",
      "61. Downloaded 200x200_laptop-dell-inspiron-14-5420-dgdcg1-bac.jpg\n",
      "62. Downloaded 200x200_laptop-dell-inspiron-5620-p1wkn-bac.jpg\n",
      "63. Downloaded 200x200_laptop-dell-inspiron-5620-n6i7004w1-bac.jpg\n",
      "64. Downloaded 200x200_laptop-dell-vostro-5320-m32dh1-xam.jpg\n",
      "65. Downloaded 200x200_laptop-dell-vostro-5320-v3i7005w-xam.jpg\n",
      "66. Downloaded 200x200_laptop-dell-vostro-5620-70296963-xam.jpg\n",
      "67. Downloaded 200x200_laptop-dell-latitude-5420-l5420i714df-%C4%90en.jpg\n",
      "68. Downloaded 200x200_laptop-dell-vostro-3425-v4r35425u100w1-%C4%90en.jpg\n",
      "69. Downloaded 200x200_laptop-dell-vostro-5320-v3i7007w-xam.jpg\n",
      "70. Downloaded 200x200_laptop-dell-inspiron-t7420-2-in-1-n4i5021w-bac.jpg\n",
      "71. Downloaded 200x200_laptop-dell-inspiron-5620-n6i7000w1-bac.jpg\n",
      "72. Downloaded 200x200_laptop-dell-inspiron-5620-n6i5003w1-bac.jpg\n",
      "73. Downloaded 200x200_laptop-dell-vostro-14-5415-p143g002agr-xam.jpg\n",
      "74. Downloaded 200x200_laptop-dell-vostro-5620-p117f001agr-xam.jpg\n",
      "75. Downloaded 200x200_laptop-dell-inspiron-14-7420-2-in-1-p161g001asl-bac.jpg\n",
      "76. Downloaded 200x200_laptop-dell-vostro-5320-p156g001agr-xam.jpg\n",
      "77. Downloaded 200x200_laptop-dell-inspiron-14-5420-p157g001asl-bac.jpg\n",
      "78. Downloaded 200x200_laptop-dell-latitude-3420-l3420i5ssdfb-%C4%90en.jpg\n",
      "79. Downloaded 200x200_laptop-dell-inspiron-16-5625-70281537-bac.png\n",
      "80. Downloaded 200x200_laptop-dell-vostro-5620-70282719-xam.jpg\n",
      "81. Downloaded 200x200_laptop-dell-vostro-3420-70283385-%C4%90en.jpg\n",
      "82. Downloaded 200x200_laptop-dell-vostro-3420-70283384-%C4%90en.jpg\n",
      "83. Downloaded 200x200_laptop-dell-latitude-7420-42lt742000-%C4%90en.png\n",
      "84. Downloaded 200x200_laptop-dell-inspiron-16-5625-99vp91-bac.png\n",
      "85. Downloaded 200x200_laptop-dell-alienware-m15-r5-70262921-%C4%90en.png\n",
      "86. Downloaded 200x200_laptop-dell-g15-5511-70266676-xam.jpg\n",
      "87. Downloaded 200x200_laptop-dell-g15-5515-70266675-xam.jpg\n",
      "88. Downloaded 200x200_laptop-dell-alienware-m15-r6-p109f001dbl-%C4%90en.jpg\n",
      "89. Downloaded 200x200_laptop-dell-alienware-m15-r6-p109f001cbl-%C4%90en.jpg\n",
      "90. Downloaded 200x200_laptop-dell-xps-13-9310-6gh9x-bac.png\n",
      "91. Downloaded 200x200_laptop-dell-latitude-3420-42lt342002-den.jpg\n",
      "92. Downloaded 200x200_laptop-dell-latitude-3420-42lt342001-den.jpg\n",
      "93. Downloaded 200x200_laptop-dell-latitude-3420-l3420i3ssdf-den.jpg\n",
      "94. Downloaded 200x200_laptop-dell-latitude-3420-l3420i5ssdf-den.jpg\n",
      "95. Downloaded 200x200_laptop-dell-g15-5515-70266674-xam.jpg\n",
      "96. Downloaded 200x200_laptop-dell-vostro-13-5310-yv5wy3-xam.jpg\n",
      "97. Downloaded 200x200_laptop-dell-inspiron-14-5415-tx4h61-bac.jpg\n",
      "98. Downloaded 200x200_laptop-dell-inspiron-5515-n5r75700u104w1-bac.jpg\n",
      "99. Downloaded 200x200_laptop-dell-vostro-3405-v4r53500u003w1-den.jpg\n",
      "100. Downloaded 200x200_laptop-dell-vostro-3400-yx51w6-den.jpg\n",
      "101. Downloaded 200x200_laptop-dell-vostro-3400-yx51w5-den.jpg\n",
      "102. Downloaded 200x200_laptop-dell-inspiron-15-3515-g6gr71-den.jpg\n",
      "103. Downloaded 200x200_laptop-dell-inspiron-15-3515-g6gr72-den.jpg\n",
      "104. Downloaded 200x200_laptop-dell-vostro-3510-p112f002bbl-den.jpg\n",
      "105. Downloaded 200x200_laptop-dell-latitude-3420-42lt342003.jpg\n",
      "106. Downloaded 200x200_laptop-dell-inspiron-15-3511-70270652-bac.jpg\n",
      "107. Downloaded 200x200_laptop-dell-vostro-3510-7t2yc3-den.jpg\n",
      "108. Downloaded 200x200_laptop-dell-inspiron-5410-2in1-j42f82-bac.jpg\n",
      "109. Downloaded 200x200_laptop-dell-vostro-3510-7t2yc2-den.jpg\n",
      "110. Downloaded 200x200_laptop-dell-vostro-5410-v4i5214w1-xam.jpg\n",
      "111. Downloaded 200x200_laptop-dell-vostro-3510-v5i3305w-den.jpg\n",
      "112. Downloaded 200x200_laptop-dell-vostro-3400-v4i7015w1-den.jpg\n",
      "113. Downloaded 200x200_laptop-dell-vostro-3400-70270644-den.jpg\n",
      "114. Downloaded 200x200_laptop-dell-vostro-5515-70270649-xam.jpg\n",
      "115. Downloaded 200x200_70270650.png\n",
      "116. Downloaded 200x200_laptop-dell-vostro-5510-70270646-xam.jpg\n",
      "117. Downloaded 200x200_laptop-dell-vostro-3400-70270645-den.jpg\n",
      "118. Downloaded 200x200_laptop-dell-g15-5511-p105f006bgr-xam.jpg\n",
      "119. Downloaded 200x200_laptop-dell-inspiron-5510-0wt8r2-bac.jpg\n",
      "120. Downloaded 200x200_laptop-dell-inspiron-14-5402-gvcnh2-bac.jpg\n",
      "121. Downloaded 200x200_laptop-dell-vostro-3405-p132g002abl-den.jpg\n",
      "122. Downloaded 200x200_laptop-dell-g15-5511-p105f006agr-xam.jpg\n",
      "123. Downloaded 200x200_laptop-dell-g15-5515-p105f004dgr-xam.jpg\n",
      "124. Downloaded 200x200_laptop-dell-g15-5515-p105f004cgr-xam.jpg\n",
      "125. Downloaded 200x200_laptop-dell-vostro-5515-k4y9x1-xam.jpg\n",
      "126. Downloaded 200x200_laptop-dell-dell-vostro-3510-v5i3205w-den.png\n",
      "127. Downloaded 200x200_laptop-dell-inspiron-5410-p143g001asl-bac.jpg\n",
      "128. Downloaded 200x200_laptop-dell-vostro-3400-yx51w3-den.jpg\n",
      "129. Downloaded 200x200_laptop-dell-inspiron-14-5415-70262929-bac.jpg\n",
      "130. Downloaded 200x200_laptop-dell-latitude-3520-70266801-den.jpg\n",
      "131. Downloaded 200x200_laptop-dell-vostro-5415-v4r55500u015w-xam.jpg\n",
      "132. Downloaded 200x200_laptop-dell-inspiron-5510-0wt8r1-bac.jpg\n",
      "133. Downloaded 200x200_laptop-dell-inspiron-5410-p147g002asl-bac.jpg\n",
      "134. Downloaded 200x200_laptop-dell-dell-vostro-3500-p90f006cbl-den.jpg\n",
      "135. Downloaded 200x200_laptop-dell-inspiron-5301-p121g002asl-bac.jpg\n",
      "136. Downloaded 200x200_laptop-dell-inspiron-7400-ddxgd1-bac.jpg\n",
      "137. Downloaded 200x200_laptop-dell-vostro-3510-7t2yc1-den.png\n",
      "138. Downloaded 200x200_laptop-dell-inspiron-15-3505-y1n1t5-den.jpg\n",
      "139. Downloaded 200x200_laptop-dell-inspiron-15-3505-y1n1t3-den.jpg\n",
      "140. Downloaded 200x200_laptop-dell-inspiron-15-3511-p112f001bbl-den.jpg\n",
      "141. Downloaded 200x200_laptop-dell-inspiron-15-3511-p112f001abl-den.jpg\n",
      "142. Downloaded 200x200_laptop-dell-vostro-3400-70253899-den.jpg\n",
      "143. Downloaded 200x200_laptop-dell-vostro-5510-70253901-xam.jpg\n",
      "144. Downloaded 200x200_laptop-dell-vostro-3400-70253900-den.jpg\n",
      "145. Downloaded 200x200_laptop-dell-inspiron-3501-70253897-den.jpg\n",
      "146. Downloaded 200x200_laptop-dell-inspiron-5410-j42f81-bac.jpg\n",
      "147. Downloaded 200x200_47371.jpg\n",
      "148. Downloaded 200x200_47350.jpg\n",
      "149. Downloaded 200x200_47347.jpg\n",
      "150. Downloaded 200x200_47340.jpg\n",
      "151. Downloaded 200x200_Dell-Vostro-3405_2.jpg\n",
      "152. Downloaded 200x200_laptop-dell-inspiron-7400-n4i5134w-bac.jpg\n",
      "153. Downloaded 200x200_Dell-Vostro-3400-261.jpg\n",
      "154. Downloaded 200x200_Dell-Latitude-3420.jpg\n",
      "155. Downloaded 200x200_Dell-Inspiron-7501.jpg\n",
      "156. Downloaded 200x200_Dell-Inspiron-5410.jpg\n",
      "157. Downloaded 200x200_Dell-Inspiron-5505.jpg\n",
      "158. Downloaded 200x200_laptop.jpg\n",
      "159. Downloaded 200x200_Dell-Inspiron-5301.jpg\n",
      "160. Downloaded 200x200_Dell-Vostro-5410-3.jpg\n",
      "161. Downloaded 200x200_vostro_13-5310nt_cnb_00000ff090.jpg\n",
      "162. Downloaded 200x200_Dell-G5-15-5505-2.jpg\n",
      "163. Downloaded 200x200_Dell-G3-15-3500_2.jpg\n",
      "164. Downloaded 200x200_Dell-G3-15-3500_2.jpg\n",
      "165. Downloaded 200x200_Dell-G3-15-3500.jpg\n",
      "166. Downloaded 200x200_Dell-G3-15-3500_2.jpg\n",
      "167. Downloaded 200x200_Dell-G3-3500-G3500Bw.jpg\n",
      "168. Downloaded 200x200_Dell-G3-3500-G3500Bw.jpg\n",
      "169. Downloaded 200x200_Dell-Latitude-7420.jpg\n",
      "170. Downloaded 200x200_Dell-Latitude-7320.jpg\n",
      "171. Downloaded 200x200_Dell-Latitude-7320.jpg\n",
      "172. Downloaded 200x200_Dell-Latitude-5520.jpg\n",
      "173. Downloaded 200x200_Dell-Latitude-5520.jpg\n",
      "174. Downloaded 200x200_Dell-Latitude-5420.jpg\n",
      "175. Downloaded 200x200_Dell-Latitude-3520-2.jpg\n",
      "176. Downloaded 200x200_Dell-Latitude-3520-2.jpg\n",
      "177. Downloaded 200x200_Dell-Latitude-3520-2.jpg\n",
      "178. Downloaded 200x200_Dell-Latitude-3520-2.jpg\n",
      "179. Downloaded 200x200_Dell-Latitude-3520-2.jpg\n",
      "180. Downloaded 200x200_Dell-Latitude-3520-2.jpg\n",
      "181. Downloaded 200x200_Dell-Latitude-3420.jpg\n",
      "182. Downloaded 200x200_Dell-Inspiron-5405.jpg\n",
      "183. Downloaded 200x200_Dell-Latitude-3410.jpg\n",
      "184. Downloaded 200x200_Dell-Inspiron-15-3505-1.jpg\n",
      "185. Downloaded 200x200_Dell-Inspiron-5405.jpg\n",
      "186. Downloaded 200x200_Dell-Inspiron-3501-6.jpg\n",
      "187. Downloaded 200x200_Dell-Inspiron-5402-8.jpg\n",
      "188. Downloaded 200x200_Dell-Latitude-3510.jpg\n",
      "189. Downloaded 200x200_Dell-Inspiron-3501-6.jpg\n",
      "190. Downloaded 200x200_Dell-Inspiron-3501-6.jpg\n",
      "191. Downloaded 200x200_Dell-Vostro-3500.jpg\n",
      "192. Downloaded 200x200_Dell-Vostro-3500.jpg\n",
      "193. Downloaded 200x200_Dell-Vostro-3500.jpg\n",
      "194. Downloaded 200x200_Dell-Vostro-3500.jpg\n",
      "195. Downloaded 200x200_Dell-Vostro-3400-261.jpg\n",
      "196. Downloaded 200x200_Dell-Vostro-3400-261.jpg\n",
      "197. Downloaded 200x200_Dell-Vostro-3400-261.jpg\n",
      "198. Downloaded 200x200_Dell-Inspiron-5402-8.jpg\n",
      "199. Downloaded 200x200_Dell-Vostro-3400-26.jpg\n",
      "200. Downloaded 200x200_Dell-Vostro-5502-9.jpg\n",
      "201. Downloaded 200x200_Dell-Vostro-5502-9.jpg\n",
      "202. Downloaded 200x200_Dell-Inspiron-550211.jpg\n",
      "203. Downloaded 200x200_Dell-Vostro-3500.jpg\n",
      "204. Downloaded 200x200_Dell-G7-7500-9.jpg\n",
      "205. Downloaded 200x200_Dell-G7-7500-9.jpg\n",
      "206. Downloaded 200x200_Dell-Inspiron-5406-11.jpg\n",
      "207. Downloaded 200x200_Dell-Inspiron-5406-1.jpg\n",
      "208. Downloaded 200x200_Dell-Inspiron-7400-2.jpg\n",
      "209. Downloaded 200x200_Dell-Inspiron-55021.jpg\n",
      "210. Downloaded 200x200_Dell-G3-15-3500_2.jpg\n",
      "211. Downloaded 200x200_Dell-Inspiron-5502.jpg\n",
      "212. Downloaded 200x200_Dell-Vostro-5301-1.jpg\n",
      "213. Downloaded 200x200_Dell-Vostro-5502-9.jpg\n",
      "214. Downloaded 200x200_Dell-Vostro-5402-10.jpg\n",
      "215. Downloaded 200x200_Dell-Inspiron-3501-6_11.jpg\n",
      "216. Downloaded 200x200_Dell-Inspiron-5406-1.jpg\n",
      "217. Downloaded 200x200_Dell-Inspiron-5301.jpg\n",
      "218. Downloaded 200x200_Dell-Inspiron-3501-6_1.jpg\n",
      "219. Downloaded 200x200_Dell-Vostro-5301-1.jpg\n",
      "220. Downloaded 200x200_Dell-Vostro-5301-1.jpg\n",
      "221. Downloaded 200x200_Dell-Vostro-5402-10.jpg\n",
      "222. Downloaded 200x200_Dell-Vostro-5402-10.jpg\n",
      "223. Downloaded 200x200_Dell-Inspiron-15-3505-1.jpg\n",
      "224. Downloaded 200x200_DELL-Inspiron-7306-N7306A-12.jpg\n",
      "225. Downloaded 200x200_logo_600x600.jpg\n",
      "226. Downloaded 200x200_Dell-Vostro-3405-1.jpg\n",
      "227. Downloaded 200x200_DELL-Inspiron-7306.jpg\n",
      "228. Downloaded 200x200_Dell-Vostro-3491-36.jpg\n",
      "229. Downloaded 200x200_Dell-Vostro-3491-36.jpg\n",
      "230. Downloaded 200x200_Dell-Vostro-3405-1.jpg\n",
      "231. Downloaded 200x200_Dell-G5-15-5500.jpg\n",
      "232. Downloaded 200x200_Dell-G5-15-5500.jpg\n",
      "233. Downloaded 200x200_Dell-G5-15-5500.jpg\n",
      "234. Downloaded 200x200_Dell-G3-15-3500.jpg\n",
      "235. Downloaded 200x200_Dell-Latitude-3410.jpg\n",
      "236. Downloaded 200x200_Dell-G3-3500.jpg\n",
      "237. Downloaded 200x200_Dell-G3-3500.jpg\n",
      "238. Downloaded 200x200_logo_600x600.jpg\n",
      "239. Downloaded 200x200_Dell-Latitude-5410-1.jpg\n",
      "240. Downloaded 200x200_Dell-Latitude-5410-1.jpg\n",
      "241. Downloaded 200x200_Dell-Latitude-3510.jpg\n",
      "242. Downloaded 200x200_Dell-Latitude-3510.jpg\n",
      "243. Downloaded 200x200_dell-5510.jpg\n",
      "244. Downloaded 200x200_Dell-Latitude-7310.jpg\n",
      "245. Downloaded 200x200_Dell-Latitude-7310.jpg\n",
      "246. Downloaded 200x200_Dell-Latitude-5410-1.jpg\n",
      "247. Downloaded 200x200_Untitled-1.jpg\n",
      "248. Downloaded 200x200_Dell-Latitude-3410.jpg\n",
      "249. Downloaded 200x200_Dell-Latitude-3410.jpg\n",
      "250. Downloaded 200x200_Dell-Latitude-3410.jpg\n",
      "251. Downloaded 200x200_Dell-Latitude-5500.jpg\n",
      "252. Downloaded 200x200_Dell-Latitude-5500.jpg\n",
      "253. Downloaded 200x200_Dell-Latitude-5400.jpg\n",
      "254. Downloaded 200x200_Laptop-Dell-Latitude-3500-6_1.jpg\n",
      "255. Downloaded 200x200_Dell-Latitude-3400.jpg\n",
      "256. Downloaded 200x200_Dell-Latitude-3400.jpg\n",
      "257. Downloaded 200x200_notebook-latitude-14-3400-campaign-hero-504x350-ng.jpg\n"
     ]
    }
   ],
   "source": [
    "count = 0\n",
    "for i in range(len(image_links)):\n",
    "    count += 1\n",
    "    image_link = image_links[i]\n",
    "    image_name = text_image_names[i]\n",
    "    with open(f'laptop_dell/{image_name}', 'wb') as f:\n",
    "        image_response = requests.get(image_link)\n",
    "        f.write(image_response.content)\n",
    "        print(f'{count}. Downloaded {image_name}')"
   ]
  },
  {
   "cell_type": "markdown",
   "metadata": {},
   "source": [
    "#### Xuất nội dung ra csv"
   ]
  },
  {
   "cell_type": "code",
   "execution_count": 15,
   "metadata": {},
   "outputs": [
    {
     "data": {
      "text/html": [
       "<div>\n",
       "<style scoped>\n",
       "    .dataframe tbody tr th:only-of-type {\n",
       "        vertical-align: middle;\n",
       "    }\n",
       "\n",
       "    .dataframe tbody tr th {\n",
       "        vertical-align: top;\n",
       "    }\n",
       "\n",
       "    .dataframe thead th {\n",
       "        text-align: right;\n",
       "    }\n",
       "</style>\n",
       "<table border=\"1\" class=\"dataframe\">\n",
       "  <thead>\n",
       "    <tr style=\"text-align: right;\">\n",
       "      <th></th>\n",
       "      <th>id</th>\n",
       "      <th>name</th>\n",
       "      <th>price</th>\n",
       "      <th>image</th>\n",
       "      <th>gift</th>\n",
       "      <th>description</th>\n",
       "    </tr>\n",
       "  </thead>\n",
       "  <tbody>\n",
       "    <tr>\n",
       "      <th>0</th>\n",
       "      <td>1</td>\n",
       "      <td>Laptop Dell Inspiron 15 3520</td>\n",
       "      <td>11790000</td>\n",
       "      <td>370x200_laptop-dell-inspiron-15-3520-n3520-i3u...</td>\n",
       "      <td>True</td>\n",
       "      <td>None</td>\n",
       "    </tr>\n",
       "    <tr>\n",
       "      <th>1</th>\n",
       "      <td>2</td>\n",
       "      <td>Laptop Dell Inspiron 15 3505 Y1N1T5 (Đen)</td>\n",
       "      <td>11990000</td>\n",
       "      <td>370x200_laptop-dell-inspiron-15-3505-y1n1t5-de...</td>\n",
       "      <td>False</td>\n",
       "      <td>None</td>\n",
       "    </tr>\n",
       "    <tr>\n",
       "      <th>2</th>\n",
       "      <td>3</td>\n",
       "      <td>Laptop Dell Inspiron 15 3530</td>\n",
       "      <td>13490000</td>\n",
       "      <td>370x200_laptop-dell-inspiron-15-3530-n3530-i3u...</td>\n",
       "      <td>False</td>\n",
       "      <td>None</td>\n",
       "    </tr>\n",
       "    <tr>\n",
       "      <th>3</th>\n",
       "      <td>4</td>\n",
       "      <td>Laptop Dell Vostro 3530 V5I3001W1 (Xám)</td>\n",
       "      <td>13990000</td>\n",
       "      <td>370x200_laptop-dell-vostro-3530-v5i3001w1-xam.jpg</td>\n",
       "      <td>False</td>\n",
       "      <td>None</td>\n",
       "    </tr>\n",
       "    <tr>\n",
       "      <th>4</th>\n",
       "      <td>5</td>\n",
       "      <td>Laptop Dell Latitude 3520 71004153 (Đen)</td>\n",
       "      <td>14990000</td>\n",
       "      <td>370x200_laptop-dell-latitude-3520-71004153-%C4...</td>\n",
       "      <td>False</td>\n",
       "      <td>None</td>\n",
       "    </tr>\n",
       "  </tbody>\n",
       "</table>\n",
       "</div>"
      ],
      "text/plain": [
       "   id                                       name     price  \\\n",
       "0   1               Laptop Dell Inspiron 15 3520  11790000   \n",
       "1   2  Laptop Dell Inspiron 15 3505 Y1N1T5 (Đen)  11990000   \n",
       "2   3               Laptop Dell Inspiron 15 3530  13490000   \n",
       "3   4    Laptop Dell Vostro 3530 V5I3001W1 (Xám)  13990000   \n",
       "4   5   Laptop Dell Latitude 3520 71004153 (Đen)  14990000   \n",
       "\n",
       "                                               image   gift description  \n",
       "0  370x200_laptop-dell-inspiron-15-3520-n3520-i3u...   True        None  \n",
       "1  370x200_laptop-dell-inspiron-15-3505-y1n1t5-de...  False        None  \n",
       "2  370x200_laptop-dell-inspiron-15-3530-n3530-i3u...  False        None  \n",
       "3  370x200_laptop-dell-vostro-3530-v5i3001w1-xam.jpg  False        None  \n",
       "4  370x200_laptop-dell-latitude-3520-71004153-%C4...  False        None  "
      ]
     },
     "execution_count": 15,
     "metadata": {},
     "output_type": "execute_result"
    }
   ],
   "source": [
    "df = pd.DataFrame({\n",
    "    'id': [_id + 1 for _id in range(len(text_product_names))],\n",
    "    'name': text_product_names,\n",
    "    'price': text_product_prices,\n",
    "    'image': text_image_names,\n",
    "    'gift': bool_product_gifts,\n",
    "    'description': text_product_descriptions\n",
    "})\n",
    "df.head()"
   ]
  },
  {
   "cell_type": "code",
   "execution_count": 16,
   "metadata": {},
   "outputs": [],
   "source": [
    "df.to_csv('laptop_dell.csv', index=False)"
   ]
  }
 ],
 "metadata": {
  "kernelspec": {
   "display_name": "Python 3",
   "language": "python",
   "name": "python3"
  },
  "language_info": {
   "codemirror_mode": {
    "name": "ipython",
    "version": 3
   },
   "file_extension": ".py",
   "mimetype": "text/x-python",
   "name": "python",
   "nbconvert_exporter": "python",
   "pygments_lexer": "ipython3",
   "version": "3.10.11"
  },
  "orig_nbformat": 4
 },
 "nbformat": 4,
 "nbformat_minor": 2
}
